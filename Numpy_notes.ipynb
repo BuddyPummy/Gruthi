{
  "cells": [
    {
      "cell_type": "markdown",
      "metadata": {
        "id": "view-in-github",
        "colab_type": "text"
      },
      "source": [
        "<a href=\"https://colab.research.google.com/github/BuddyPummy/Gruthi/blob/main/Numpy_notes.ipynb\" target=\"_parent\"><img src=\"https://colab.research.google.com/assets/colab-badge.svg\" alt=\"Open In Colab\"/></a>"
      ]
    },
    {
      "cell_type": "markdown",
      "id": "95b139b5",
      "metadata": {
        "id": "95b139b5"
      },
      "source": [
        "what is numpay?\n",
        "numpy is aa python library used for working with arrays.it also has function for working in domain of liniar algebra, fourier transform,and matricses.\n",
        "numpy was created in 2005 by travis oliphant it is an open sourcs project and you can use it freely.\n",
        "nupy is stands for numerical python numpy is a python liraruy is used for woring arrays .\n",
        "it also ha a function for working in domain of linear algebra fourier transform and matrics.\n",
        "the array object in numpy is called ndarray it povides a lot of supporting functions that make working with ndarra very easy.\n",
        "acess array elements aray indexing is the same  as accessing an array elemnt\n",
        "you can accesss an array element by refferning is index number\n"
      ]
    },
    {
      "cell_type": "code",
      "execution_count": null,
      "id": "88c29cba",
      "metadata": {
        "id": "88c29cba",
        "outputId": "674b9477-c8d5-42fc-c488-9c2ac287507d"
      },
      "outputs": [
        {
          "name": "stdout",
          "output_type": "stream",
          "text": [
            "1\n"
          ]
        }
      ],
      "source": [
        "import numpy as np\n",
        "import array as arr\n",
        "array=np.array([1,2,3,4])\n",
        "print(array[0])"
      ]
    },
    {
      "cell_type": "code",
      "execution_count": null,
      "id": "55109786",
      "metadata": {
        "id": "55109786",
        "outputId": "4d6a627a-acfe-48d3-b758-15118a9c9301"
      },
      "outputs": [
        {
          "name": "stdout",
          "output_type": "stream",
          "text": [
            "3\n"
          ]
        }
      ],
      "source": [
        "import numpy as np\n",
        "arr=np.array([[[1,2,3],[4,5,6]],[[7,8,9],[10,11,12]]])\n",
        "print(arr[0, 0, 2])"
      ]
    },
    {
      "cell_type": "markdown",
      "id": "ef10375d",
      "metadata": {
        "id": "ef10375d"
      },
      "source": [
        "Data type\n",
        "i-integer b-boolean u-unsigned integer f-float c-complex float m- timedelta M-datetime o-object S-string u-unicode strong v-fixed chunk of memory for other type(void)\n",
        "checking the data type of an  array object using dtype the returns the data typr of the array"
      ]
    },
    {
      "cell_type": "code",
      "execution_count": null,
      "id": "49ad27e8",
      "metadata": {
        "id": "49ad27e8",
        "outputId": "5a0f5d5d-ca9a-41a4-93c8-19f4b03dbde7"
      },
      "outputs": [
        {
          "name": "stdout",
          "output_type": "stream",
          "text": [
            "int32\n"
          ]
        }
      ],
      "source": [
        "import numpy as np\n",
        "arr=np.array([1,2,3,4])\n",
        "print(arr.dtype)"
      ]
    },
    {
      "cell_type": "code",
      "execution_count": null,
      "id": "c4d8ba86",
      "metadata": {
        "id": "c4d8ba86",
        "outputId": "f102444f-13e1-440c-8d81-7c9aa2524d5b"
      },
      "outputs": [
        {
          "name": "stdout",
          "output_type": "stream",
          "text": [
            "<U1\n"
          ]
        }
      ],
      "source": [
        "import numpy as np\n",
        "arr=np.array([\"b\",\"t\",\"s\"])\n",
        "print(arr.dtype)"
      ]
    },
    {
      "cell_type": "code",
      "execution_count": null,
      "id": "aa38f5d0",
      "metadata": {
        "id": "aa38f5d0",
        "outputId": "16b38ec7-d3f8-43ef-edbe-2d37ec9d0f5c"
      },
      "outputs": [
        {
          "name": "stdout",
          "output_type": "stream",
          "text": [
            "<U5\n"
          ]
        }
      ],
      "source": [
        "import numpy as np\n",
        "arr=np.array([\"hello\",\"world\",\"bye\"])\n",
        "print(arr.dtype)"
      ]
    },
    {
      "cell_type": "code",
      "execution_count": null,
      "id": "a5b487cd",
      "metadata": {
        "id": "a5b487cd",
        "outputId": "c2d4bce6-8846-4015-e2e8-d3307b6b5894"
      },
      "outputs": [
        {
          "name": "stdout",
          "output_type": "stream",
          "text": [
            "[[[[[1 2 3 4]]]]]\n",
            "5\n"
          ]
        }
      ],
      "source": [
        "import numpy as np\n",
        "import array as arr\n",
        "arr=np.array([1,2,3,4],ndmin=5)\n",
        "print(arr)\n",
        "print(arr.ndim)"
      ]
    },
    {
      "cell_type": "code",
      "execution_count": null,
      "id": "d47f31d4",
      "metadata": {
        "id": "d47f31d4",
        "outputId": "53f19855-be98-4866-f61f-205f1171a463"
      },
      "outputs": [
        {
          "name": "stdout",
          "output_type": "stream",
          "text": [
            "4\n"
          ]
        }
      ],
      "source": [
        "import numpy as np\n",
        "x=np.array([1,2,3,4])\n",
        "print(x[3])"
      ]
    },
    {
      "cell_type": "code",
      "execution_count": null,
      "id": "880875d1",
      "metadata": {
        "id": "880875d1",
        "outputId": "cc38b5b8-73e5-4fc0-b3e1-a146b90e6112"
      },
      "outputs": [
        {
          "name": "stdout",
          "output_type": "stream",
          "text": [
            "4\n",
            "5\n",
            "9\n"
          ]
        }
      ],
      "source": [
        "import numpy as np\n",
        "arr=([1,2,3,4,5,6])\n",
        "print(arr[3])\n",
        "print(arr[4])\n",
        "print(arr[3]+arr[4])"
      ]
    },
    {
      "cell_type": "code",
      "execution_count": null,
      "id": "4519125b",
      "metadata": {
        "id": "4519125b"
      },
      "outputs": [],
      "source": [
        "arr=np,array([1,2,3,4,5])\n",
        "arr=np.array([1,2,3])"
      ]
    },
    {
      "cell_type": "code",
      "execution_count": null,
      "id": "d0bcfcb2",
      "metadata": {
        "id": "d0bcfcb2",
        "outputId": "f4379df8-6777-4449-e191-7b8c519da0db"
      },
      "outputs": [
        {
          "name": "stdout",
          "output_type": "stream",
          "text": [
            "[1]\n"
          ]
        }
      ],
      "source": [
        "import numpy as np\n",
        "x=np.array([1,2,3,4,5,6,7])\n",
        "print(x[:-4:3])"
      ]
    },
    {
      "cell_type": "code",
      "execution_count": null,
      "id": "dd51943d",
      "metadata": {
        "id": "dd51943d",
        "outputId": "c76061c4-0229-458a-c69f-0632f8beb863"
      },
      "outputs": [
        {
          "name": "stdout",
          "output_type": "stream",
          "text": [
            "[1 2 3 4 5 6]\n"
          ]
        }
      ],
      "source": [
        "import numpy as np\n",
        "x=np.array([1,2,3,4,5,6,7])\n",
        "print(x[:6])"
      ]
    },
    {
      "cell_type": "code",
      "execution_count": null,
      "id": "f1492b42",
      "metadata": {
        "id": "f1492b42",
        "outputId": "a15cdc85-6f32-47d6-c95b-a9476f828e34"
      },
      "outputs": [
        {
          "name": "stdout",
          "output_type": "stream",
          "text": [
            "[1 4]\n"
          ]
        }
      ],
      "source": [
        "import numpy as np\n",
        "x=np.array([1,2,3,4,5,6,7])\n",
        "print(x[:5:3])"
      ]
    },
    {
      "cell_type": "code",
      "execution_count": null,
      "id": "45167df2",
      "metadata": {
        "id": "45167df2",
        "outputId": "cc345594-96bb-482c-c883-42b8440464a1"
      },
      "outputs": [
        {
          "name": "stdout",
          "output_type": "stream",
          "text": [
            "[3 4]\n"
          ]
        }
      ],
      "source": [
        "import numpy as np\n",
        "x=np.array([1,2,3,4,5,6,7])\n",
        "print(x[2:4])"
      ]
    },
    {
      "cell_type": "code",
      "execution_count": null,
      "id": "0c09dc41",
      "metadata": {
        "id": "0c09dc41",
        "outputId": "9701dd9e-d61a-4842-ce63-02ded2ffc52d"
      },
      "outputs": [
        {
          "name": "stdout",
          "output_type": "stream",
          "text": [
            "[1 2 3 4]\n"
          ]
        }
      ],
      "source": [
        "import numpy as np\n",
        "x=np.array([1,2,3,4,5,6,7])\n",
        "print(x[:4])"
      ]
    },
    {
      "cell_type": "code",
      "execution_count": null,
      "id": "9f845b65",
      "metadata": {
        "id": "9f845b65",
        "outputId": "896e82fe-03cc-441e-b315-bad04f0a5c6b"
      },
      "outputs": [
        {
          "name": "stdout",
          "output_type": "stream",
          "text": [
            "[1 5]\n"
          ]
        }
      ],
      "source": [
        "import numpy as np\n",
        "x=np.array([1,2,3,4,5,6,7])\n",
        "print(x[::4])"
      ]
    },
    {
      "cell_type": "code",
      "execution_count": null,
      "id": "c4210f4f",
      "metadata": {
        "id": "c4210f4f",
        "outputId": "243663b6-a4dd-4e44-9cf7-1537935f8b43"
      },
      "outputs": [
        {
          "name": "stdout",
          "output_type": "stream",
          "text": [
            "[1 2 3 4 5 6]\n"
          ]
        }
      ],
      "source": [
        "import numpy as np\n",
        "x=np.array([1,2,3,4,5,6,7])\n",
        "print(x[:6:])"
      ]
    },
    {
      "cell_type": "code",
      "execution_count": null,
      "id": "384a8903",
      "metadata": {
        "id": "384a8903",
        "outputId": "d03f1711-135b-40c9-a055-4713dca2c512"
      },
      "outputs": [
        {
          "name": "stdout",
          "output_type": "stream",
          "text": [
            "[1]\n"
          ]
        }
      ],
      "source": [
        "import numpy as np\n",
        "x=np.array([1,2,3,4,5,6,7])\n",
        "print(x[:-2:5])"
      ]
    },
    {
      "cell_type": "code",
      "execution_count": null,
      "id": "66f7103d",
      "metadata": {
        "id": "66f7103d",
        "outputId": "52f13165-21dc-4160-d2a0-b4ec5f003d7a"
      },
      "outputs": [
        {
          "name": "stdout",
          "output_type": "stream",
          "text": [
            "[4 5 6 7]\n"
          ]
        }
      ],
      "source": [
        "import numpy as np\n",
        "x=np.array([1,2,3,4,5,6,7])\n",
        "print(x[3:])"
      ]
    },
    {
      "cell_type": "code",
      "execution_count": null,
      "id": "fe36364d",
      "metadata": {
        "id": "fe36364d",
        "outputId": "b20b536d-68d4-4c42-bda5-ccef3bacebcc"
      },
      "outputs": [
        {
          "name": "stdout",
          "output_type": "stream",
          "text": [
            "[1 2 3 4 5]\n"
          ]
        }
      ],
      "source": [
        "import numpy as np\n",
        "x=np.array([1,2,3,4,5,6,7])\n",
        "print(x[:-2])"
      ]
    }
  ],
  "metadata": {
    "kernelspec": {
      "display_name": "Python 3 (ipykernel)",
      "language": "python",
      "name": "python3"
    },
    "language_info": {
      "codemirror_mode": {
        "name": "ipython",
        "version": 3
      },
      "file_extension": ".py",
      "mimetype": "text/x-python",
      "name": "python",
      "nbconvert_exporter": "python",
      "pygments_lexer": "ipython3",
      "version": "3.9.13"
    },
    "colab": {
      "provenance": [],
      "include_colab_link": true
    }
  },
  "nbformat": 4,
  "nbformat_minor": 5
}