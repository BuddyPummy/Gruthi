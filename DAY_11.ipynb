{
  "nbformat": 4,
  "nbformat_minor": 0,
  "metadata": {
    "colab": {
      "provenance": [],
      "include_colab_link": true
    },
    "kernelspec": {
      "name": "python3",
      "display_name": "Python 3"
    },
    "language_info": {
      "name": "python"
    }
  },
  "cells": [
    {
      "cell_type": "markdown",
      "metadata": {
        "id": "view-in-github",
        "colab_type": "text"
      },
      "source": [
        "<a href=\"https://colab.research.google.com/github/BuddyPummy/Gruthi/blob/main/DAY_11.ipynb\" target=\"_parent\"><img src=\"https://colab.research.google.com/assets/colab-badge.svg\" alt=\"Open In Colab\"/></a>"
      ]
    },
    {
      "cell_type": "code",
      "execution_count": null,
      "metadata": {
        "colab": {
          "base_uri": "https://localhost:8080/"
        },
        "id": "JfbU8TJJoj2Y",
        "outputId": "15884044-1af8-433d-dd3b-adfb33e226c7"
      },
      "outputs": [
        {
          "output_type": "stream",
          "name": "stdout",
          "text": [
            "4\n",
            "3\n",
            "2\n",
            "1\n",
            "0\n"
          ]
        }
      ],
      "source": [
        "list=[1,2,3,4,5]\n",
        "for i in list:\n",
        "  print(len(list)-i)\n"
      ]
    },
    {
      "cell_type": "markdown",
      "source": [
        "# To reverse a list using for loop\n"
      ],
      "metadata": {
        "id": "EocAfFaNfsI3"
      }
    },
    {
      "cell_type": "code",
      "source": [
        "arr=[1,2,3,4,5]\n",
        "for i in arr:\n",
        "  x=len(arr)-1\n",
        "  y=len(arr)-1-1\n",
        "  z=len(arr)-1-1-1\n",
        "  l=len(arr)-1-1-1-1\n",
        "  a=len(arr)-1-1-1-1-1\n",
        "print((x,y,z,l,a))\n",
        "\n"
      ],
      "metadata": {
        "colab": {
          "base_uri": "https://localhost:8080/"
        },
        "id": "_kU7ppHZx0Nh",
        "outputId": "db531d35-fc8c-4762-f38e-b4007d541a47"
      },
      "execution_count": null,
      "outputs": [
        {
          "output_type": "stream",
          "name": "stdout",
          "text": [
            "(4, 3, 2, 1, 0)\n"
          ]
        }
      ]
    },
    {
      "cell_type": "markdown",
      "source": [
        "# To arange list of variables in order wise"
      ],
      "metadata": {
        "id": "bITz1ClmiF9f"
      }
    },
    {
      "cell_type": "code",
      "source": [
        "x=[6,5,3,4,2,1]\n",
        "y=len(x)\n",
        "for i in range(0,y):\n",
        "  for j in range(i+1,y):\n",
        "    if x[i] > x[j]:\n",
        "      a=x[i]\n",
        "      x[i]=x[j]\n",
        "      x[j]=a\n",
        "print(x)\n"
      ],
      "metadata": {
        "colab": {
          "base_uri": "https://localhost:8080/"
        },
        "id": "pked6XdNvCfF",
        "outputId": "d1214810-8137-4435-a52c-4d95c189a011"
      },
      "execution_count": null,
      "outputs": [
        {
          "output_type": "stream",
          "name": "stdout",
          "text": [
            "[1, 2, 3, 4, 5, 6]\n"
          ]
        }
      ]
    },
    {
      "cell_type": "markdown",
      "source": [
        "# To reverse a list in while loop"
      ],
      "metadata": {
        "id": "qsmHUZ2VjBOi"
      }
    },
    {
      "cell_type": "code",
      "source": [
        "n=123\n",
        "while(n>0):\n",
        "  rev_n=0\n",
        "  rem = n%10\n",
        "  rev_n=(rev_n*10)+rem\n",
        "  n=n//10\n",
        "  print(rev_n)"
      ],
      "metadata": {
        "colab": {
          "base_uri": "https://localhost:8080/"
        },
        "id": "bIz_3hQjvCpC",
        "outputId": "0323a4a7-c963-4881-8257-14f18700bebb"
      },
      "execution_count": null,
      "outputs": [
        {
          "output_type": "stream",
          "name": "stdout",
          "text": [
            "3\n",
            "2\n",
            "1\n"
          ]
        }
      ]
    }
  ]
}