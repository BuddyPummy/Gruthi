{
  "nbformat": 4,
  "nbformat_minor": 0,
  "metadata": {
    "colab": {
      "provenance": [],
      "include_colab_link": true
    },
    "kernelspec": {
      "name": "python3",
      "display_name": "Python 3"
    },
    "language_info": {
      "name": "python"
    }
  },
  "cells": [
    {
      "cell_type": "markdown",
      "metadata": {
        "id": "view-in-github",
        "colab_type": "text"
      },
      "source": [
        "<a href=\"https://colab.research.google.com/github/BuddyPummy/Gruthi/blob/main/Day_14.ipynb\" target=\"_parent\"><img src=\"https://colab.research.google.com/assets/colab-badge.svg\" alt=\"Open In Colab\"/></a>"
      ]
    },
    {
      "cell_type": "code",
      "source": [
        "def removeDuplicate(x):\n",
        "  c=\"\"\n",
        "  for i in x:\n",
        "    if(i in c):\n",
        "      pass\n",
        "    else:\n",
        "      c=c+i\n",
        "  print(\"Dupicate\",c)\n",
        "x=\"zvvo\"\n",
        "removeDuplicate(x)"
      ],
      "metadata": {
        "colab": {
          "base_uri": "https://localhost:8080/"
        },
        "id": "mo6Av40-Br7J",
        "outputId": "f10140f9-e2a4-4c8e-80a4-47ef10279238"
      },
      "execution_count": null,
      "outputs": [
        {
          "output_type": "stream",
          "name": "stdout",
          "text": [
            "Dupicate zvo\n"
          ]
        }
      ]
    }
  ]
}