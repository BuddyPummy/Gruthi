{
 "cells": [
  {
   "cell_type": "code",
   "execution_count": 37,
   "id": "d5c37574",
   "metadata": {},
   "outputs": [],
   "source": [
    "import nltk\n",
    "from nltk import *\n",
    "sent = \"India is a republic nation,We are proud Indians.so i love my India\"\n"
   ]
  },
  {
   "cell_type": "code",
   "execution_count": 38,
   "id": "d95c97c0",
   "metadata": {},
   "outputs": [
    {
     "name": "stdout",
     "output_type": "stream",
     "text": [
      "66\n",
      "India\n",
      "republic\n"
     ]
    }
   ],
   "source": [
    "print(len(sent))   #Prints the number of characters\n",
    "print(sent[0:5])   #Prints 'India'\n",
    "print(sent[11:19]) #Prints 'republic'\n"
   ]
  },
  {
   "cell_type": "code",
   "execution_count": 39,
   "id": "0b7a2337",
   "metadata": {},
   "outputs": [
    {
     "name": "stderr",
     "output_type": "stream",
     "text": [
      "[nltk_data] Downloading package punkt to\n",
      "[nltk_data]     C:\\Users\\Admin\\AppData\\Roaming\\nltk_data...\n",
      "[nltk_data]   Package punkt is already up-to-date!\n"
     ]
    },
    {
     "data": {
      "text/plain": [
       "True"
      ]
     },
     "execution_count": 39,
     "metadata": {},
     "output_type": "execute_result"
    }
   ],
   "source": [
    "nltk.download('punkt')"
   ]
  },
  {
   "cell_type": "code",
   "execution_count": 40,
   "id": "84b861d2",
   "metadata": {},
   "outputs": [
    {
     "name": "stdout",
     "output_type": "stream",
     "text": [
      "['India', 'is', 'a', 'republic', 'nation', ',', 'We', 'are', 'proud', 'Indians.so', 'i', 'love', 'my', 'India']\n"
     ]
    }
   ],
   "source": [
    "print(nltk.word_tokenize(sent)) \n",
    "#Prints list of words ['India', 'is', 'a', 'republic', 'nation', '.', 'We', 'are', 'proud', 'Indians']\n"
   ]
  },
  {
   "cell_type": "code",
   "execution_count": 41,
   "id": "3d9a875e",
   "metadata": {},
   "outputs": [
    {
     "name": "stdout",
     "output_type": "stream",
     "text": [
      "[',', 'India', 'Indians.so', 'We', 'a', 'are', 'i', 'is', 'love', 'my', 'nation', 'proud', 'republic']\n"
     ]
    }
   ],
   "source": [
    "tokens = nltk.word_tokenize(sent)\n",
    "vocab = sorted(set(tokens))\n",
    "print(vocab) #Prints ['.', 'India', 'Indians', 'We', 'a', 'are', 'country', 'is', 'proud', 'republic']\n"
   ]
  },
  {
   "cell_type": "code",
   "execution_count": 43,
   "id": "72811b6c",
   "metadata": {},
   "outputs": [
    {
     "ename": "IndentationError",
     "evalue": "expected an indented block (306455409.py, line 5)",
     "output_type": "error",
     "traceback": [
      "\u001b[1;36m  Input \u001b[1;32mIn [43]\u001b[1;36m\u001b[0m\n\u001b[1;33m    vocab_wo_punct.append(i)\u001b[0m\n\u001b[1;37m                            ^\u001b[0m\n\u001b[1;31mIndentationError\u001b[0m\u001b[1;31m:\u001b[0m expected an indented block\n"
     ]
    }
   ],
   "source": [
    "from string import punctuation\n",
    "vocab_wo_punct=[]\n",
    "for i in vocab:\n",
    "    if i not in punctuation:\n",
    "        vocab_wo_punct.append(i)\n",
    "print(vocab_wo_punct) #Prints ['India', 'Indians', 'We', 'a', 'are', 'country', 'is', 'proud', 'republ\n"
   ]
  },
  {
   "cell_type": "code",
   "execution_count": 34,
   "id": "743381fb",
   "metadata": {
    "scrolled": true
   },
   "outputs": [
    {
     "ename": "NameError",
     "evalue": "name 'vocab_wo_punct' is not defined",
     "output_type": "error",
     "traceback": [
      "\u001b[1;31m---------------------------------------------------------------------------\u001b[0m",
      "\u001b[1;31mNameError\u001b[0m                                 Traceback (most recent call last)",
      "Input \u001b[1;32mIn [34]\u001b[0m, in \u001b[0;36m<cell line: 2>\u001b[1;34m()\u001b[0m\n\u001b[0;32m      1\u001b[0m \u001b[38;5;28;01mfrom\u001b[39;00m \u001b[38;5;21;01mnltk\u001b[39;00m \u001b[38;5;28;01mimport\u001b[39;00m pos_tag\n\u001b[1;32m----> 2\u001b[0m pos_list \u001b[38;5;241m=\u001b[39m pos_tag(\u001b[43mvocab_wo_punct\u001b[49m)\n\u001b[0;32m      3\u001b[0m \u001b[38;5;28mprint\u001b[39m(pos_list)\n\u001b[0;32m      4\u001b[0m \u001b[38;5;124;03m\"\"\" Prints [('India', 'NNP'), ('Indians', 'NNPS'), ('We', 'PRP'), ('a', 'DT'), \u001b[39;00m\n\u001b[0;32m      5\u001b[0m \u001b[38;5;124;03m            ('are', 'VBP'), ('country', 'NN'), ('is', 'VBZ'), ('proud', 'JJ'), \u001b[39;00m\n\u001b[0;32m      6\u001b[0m \u001b[38;5;124;03m            ('republic', 'JJ'), ('India', 'NNP')] \"\"\"\u001b[39;00m\n",
      "\u001b[1;31mNameError\u001b[0m: name 'vocab_wo_punct' is not defined"
     ]
    }
   ],
   "source": [
    "from nltk import pos_tag\n",
    "pos_list = pos_tag(vocab_wo_punct)\n",
    "print(pos_list)\n",
    "\"\"\" Prints [('India', 'NNP'), ('Indians', 'NNPS'), ('We', 'PRP'), ('a', 'DT'), \n",
    "            ('are', 'VBP'), ('country', 'NN'), ('is', 'VBZ'), ('proud', 'JJ'), \n",
    "            ('republic', 'JJ'), ('India', 'NNP')] \"\"\"\n"
   ]
  },
  {
   "cell_type": "code",
   "execution_count": 35,
   "id": "1cab542c",
   "metadata": {},
   "outputs": [
    {
     "ename": "SyntaxError",
     "evalue": "invalid non-printable character U+00A0 (1767263330.py, line 3)",
     "output_type": "error",
     "traceback": [
      "\u001b[1;36m  Input \u001b[1;32mIn [35]\u001b[1;36m\u001b[0m\n\u001b[1;33m    stemObj.stem(\"Studying\") #Prints 'studi'\u001b[0m\n\u001b[1;37m                            ^\u001b[0m\n\u001b[1;31mSyntaxError\u001b[0m\u001b[1;31m:\u001b[0m invalid non-printable character U+00A0\n"
     ]
    }
   ],
   "source": [
    "from nltk.stem.snowball import SnowballStemmer\n",
    "stemObj = SnowballStemmer(\"english\")\n",
    "stemObj.stem(\"Studying\") #Prints 'studi'\n",
    " \n",
    "stemmed_vocab=[]\n",
    "stemObj = SnowballStemmer(\"english\")\n",
    "for i in vocab_no_punct:\n",
    "    stemmed_vocab.append(stemObj.stem(i))\n",
    "print(stemmed_vocab) #Prints ['india', 'indian', 'we', 'a', 'are', 'countri', 'is', 'proud', 'republ'] \n"
   ]
  },
  {
   "cell_type": "code",
   "execution_count": null,
   "id": "2cfc9edf",
   "metadata": {},
   "outputs": [],
   "source": []
  },
  {
   "cell_type": "code",
   "execution_count": null,
   "id": "2fcfeda3",
   "metadata": {},
   "outputs": [],
   "source": []
  }
 ],
 "metadata": {
  "kernelspec": {
   "display_name": "Python 3 (ipykernel)",
   "language": "python",
   "name": "python3"
  },
  "language_info": {
   "codemirror_mode": {
    "name": "ipython",
    "version": 3
   },
   "file_extension": ".py",
   "mimetype": "text/x-python",
   "name": "python",
   "nbconvert_exporter": "python",
   "pygments_lexer": "ipython3",
   "version": "3.9.12"
  }
 },
 "nbformat": 4,
 "nbformat_minor": 5
}
