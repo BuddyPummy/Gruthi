{
 "cells": [
  {
   "cell_type": "code",
   "execution_count": 1,
   "id": "7758bfd9",
   "metadata": {},
   "outputs": [
    {
     "name": "stdout",
     "output_type": "stream",
     "text": [
      "Requirement already satisfied: keras in c:\\users\\admin\\anaconda3\\lib\\site-packages (2.11.0)\n",
      "Note: you may need to restart the kernel to use updated packages.\n"
     ]
    }
   ],
   "source": [
    "pip install keras"
   ]
  },
  {
   "cell_type": "code",
   "execution_count": 12,
   "id": "49c66c58",
   "metadata": {},
   "outputs": [
    {
     "name": "stdout",
     "output_type": "stream",
     "text": [
      "Requirement already satisfied: tensorflow in c:\\users\\admin\\anaconda3\\lib\\site-packages (2.11.0)\n",
      "Requirement already satisfied: tensorflow-intel==2.11.0 in c:\\users\\admin\\anaconda3\\lib\\site-packages (from tensorflow) (2.11.0)\n",
      "Requirement already satisfied: numpy>=1.20 in c:\\users\\admin\\anaconda3\\lib\\site-packages (from tensorflow-intel==2.11.0->tensorflow) (1.21.5)\n",
      "Requirement already satisfied: keras<2.12,>=2.11.0 in c:\\users\\admin\\anaconda3\\lib\\site-packages (from tensorflow-intel==2.11.0->tensorflow) (2.11.0)\n",
      "Requirement already satisfied: packaging in c:\\users\\admin\\anaconda3\\lib\\site-packages (from tensorflow-intel==2.11.0->tensorflow) (21.3)\n",
      "Requirement already satisfied: gast<=0.4.0,>=0.2.1 in c:\\users\\admin\\anaconda3\\lib\\site-packages (from tensorflow-intel==2.11.0->tensorflow) (0.4.0)\n",
      "Requirement already satisfied: absl-py>=1.0.0 in c:\\users\\admin\\anaconda3\\lib\\site-packages (from tensorflow-intel==2.11.0->tensorflow) (1.3.0)\n",
      "Requirement already satisfied: h5py>=2.9.0 in c:\\users\\admin\\anaconda3\\lib\\site-packages (from tensorflow-intel==2.11.0->tensorflow) (3.6.0)\n",
      "Requirement already satisfied: tensorboard<2.12,>=2.11 in c:\\users\\admin\\anaconda3\\lib\\site-packages (from tensorflow-intel==2.11.0->tensorflow) (2.11.0)\n",
      "Requirement already satisfied: astunparse>=1.6.0 in c:\\users\\admin\\anaconda3\\lib\\site-packages (from tensorflow-intel==2.11.0->tensorflow) (1.6.3)\n",
      "Requirement already satisfied: tensorflow-io-gcs-filesystem>=0.23.1 in c:\\users\\admin\\anaconda3\\lib\\site-packages (from tensorflow-intel==2.11.0->tensorflow) (0.29.0)\n",
      "Requirement already satisfied: wrapt>=1.11.0 in c:\\users\\admin\\anaconda3\\lib\\site-packages (from tensorflow-intel==2.11.0->tensorflow) (1.12.1)\n",
      "Requirement already satisfied: tensorflow-estimator<2.12,>=2.11.0 in c:\\users\\admin\\anaconda3\\lib\\site-packages (from tensorflow-intel==2.11.0->tensorflow) (2.11.0)\n",
      "Requirement already satisfied: libclang>=13.0.0 in c:\\users\\admin\\anaconda3\\lib\\site-packages (from tensorflow-intel==2.11.0->tensorflow) (14.0.6)\n",
      "Requirement already satisfied: protobuf<3.20,>=3.9.2 in c:\\users\\admin\\anaconda3\\lib\\site-packages (from tensorflow-intel==2.11.0->tensorflow) (3.19.1)\n",
      "Requirement already satisfied: typing-extensions>=3.6.6 in c:\\users\\admin\\anaconda3\\lib\\site-packages (from tensorflow-intel==2.11.0->tensorflow) (4.1.1)\n",
      "Requirement already satisfied: google-pasta>=0.1.1 in c:\\users\\admin\\anaconda3\\lib\\site-packages (from tensorflow-intel==2.11.0->tensorflow) (0.2.0)\n",
      "Requirement already satisfied: setuptools in c:\\users\\admin\\anaconda3\\lib\\site-packages (from tensorflow-intel==2.11.0->tensorflow) (61.2.0)\n",
      "Requirement already satisfied: six>=1.12.0 in c:\\users\\admin\\anaconda3\\lib\\site-packages (from tensorflow-intel==2.11.0->tensorflow) (1.16.0)\n",
      "Requirement already satisfied: grpcio<2.0,>=1.24.3 in c:\\users\\admin\\anaconda3\\lib\\site-packages (from tensorflow-intel==2.11.0->tensorflow) (1.42.0)\n",
      "Requirement already satisfied: opt-einsum>=2.3.2 in c:\\users\\admin\\anaconda3\\lib\\site-packages (from tensorflow-intel==2.11.0->tensorflow) (3.3.0)\n",
      "Requirement already satisfied: termcolor>=1.1.0 in c:\\users\\admin\\anaconda3\\lib\\site-packages (from tensorflow-intel==2.11.0->tensorflow) (2.1.1)\n",
      "Requirement already satisfied: flatbuffers>=2.0 in c:\\users\\admin\\anaconda3\\lib\\site-packages (from tensorflow-intel==2.11.0->tensorflow) (22.12.6)\n",
      "Requirement already satisfied: wheel<1.0,>=0.23.0 in c:\\users\\admin\\anaconda3\\lib\\site-packages (from astunparse>=1.6.0->tensorflow-intel==2.11.0->tensorflow) (0.37.1)\n",
      "Requirement already satisfied: markdown>=2.6.8 in c:\\users\\admin\\anaconda3\\lib\\site-packages (from tensorboard<2.12,>=2.11->tensorflow-intel==2.11.0->tensorflow) (3.3.4)\n",
      "Requirement already satisfied: werkzeug>=1.0.1 in c:\\users\\admin\\anaconda3\\lib\\site-packages (from tensorboard<2.12,>=2.11->tensorflow-intel==2.11.0->tensorflow) (2.0.3)\n",
      "Requirement already satisfied: requests<3,>=2.21.0 in c:\\users\\admin\\anaconda3\\lib\\site-packages (from tensorboard<2.12,>=2.11->tensorflow-intel==2.11.0->tensorflow) (2.27.1)\n",
      "Requirement already satisfied: tensorboard-plugin-wit>=1.6.0 in c:\\users\\admin\\anaconda3\\lib\\site-packages (from tensorboard<2.12,>=2.11->tensorflow-intel==2.11.0->tensorflow) (1.8.1)\n",
      "Requirement already satisfied: google-auth-oauthlib<0.5,>=0.4.1 in c:\\users\\admin\\anaconda3\\lib\\site-packages (from tensorboard<2.12,>=2.11->tensorflow-intel==2.11.0->tensorflow) (0.4.6)\n",
      "Requirement already satisfied: tensorboard-data-server<0.7.0,>=0.6.0 in c:\\users\\admin\\anaconda3\\lib\\site-packages (from tensorboard<2.12,>=2.11->tensorflow-intel==2.11.0->tensorflow) (0.6.1)\n",
      "Requirement already satisfied: google-auth<3,>=1.6.3 in c:\\users\\admin\\anaconda3\\lib\\site-packages (from tensorboard<2.12,>=2.11->tensorflow-intel==2.11.0->tensorflow) (1.33.0)\n",
      "Requirement already satisfied: cachetools<5.0,>=2.0.0 in c:\\users\\admin\\anaconda3\\lib\\site-packages (from google-auth<3,>=1.6.3->tensorboard<2.12,>=2.11->tensorflow-intel==2.11.0->tensorflow) (4.2.2)\n",
      "Requirement already satisfied: rsa<5,>=3.1.4 in c:\\users\\admin\\anaconda3\\lib\\site-packages (from google-auth<3,>=1.6.3->tensorboard<2.12,>=2.11->tensorflow-intel==2.11.0->tensorflow) (4.7.2)\n",
      "Requirement already satisfied: pyasn1-modules>=0.2.1 in c:\\users\\admin\\anaconda3\\lib\\site-packages (from google-auth<3,>=1.6.3->tensorboard<2.12,>=2.11->tensorflow-intel==2.11.0->tensorflow) (0.2.8)\n",
      "Requirement already satisfied: requests-oauthlib>=0.7.0 in c:\\users\\admin\\anaconda3\\lib\\site-packages (from google-auth-oauthlib<0.5,>=0.4.1->tensorboard<2.12,>=2.11->tensorflow-intel==2.11.0->tensorflow) (1.3.1)\n",
      "Requirement already satisfied: pyasn1<0.5.0,>=0.4.6 in c:\\users\\admin\\anaconda3\\lib\\site-packages (from pyasn1-modules>=0.2.1->google-auth<3,>=1.6.3->tensorboard<2.12,>=2.11->tensorflow-intel==2.11.0->tensorflow) (0.4.8)\n",
      "Requirement already satisfied: certifi>=2017.4.17 in c:\\users\\admin\\anaconda3\\lib\\site-packages (from requests<3,>=2.21.0->tensorboard<2.12,>=2.11->tensorflow-intel==2.11.0->tensorflow) (2021.10.8)\n",
      "Requirement already satisfied: charset-normalizer~=2.0.0 in c:\\users\\admin\\anaconda3\\lib\\site-packages (from requests<3,>=2.21.0->tensorboard<2.12,>=2.11->tensorflow-intel==2.11.0->tensorflow) (2.0.4)\n",
      "Requirement already satisfied: urllib3<1.27,>=1.21.1 in c:\\users\\admin\\anaconda3\\lib\\site-packages (from requests<3,>=2.21.0->tensorboard<2.12,>=2.11->tensorflow-intel==2.11.0->tensorflow) (1.26.9)\n",
      "Requirement already satisfied: idna<4,>=2.5 in c:\\users\\admin\\anaconda3\\lib\\site-packages (from requests<3,>=2.21.0->tensorboard<2.12,>=2.11->tensorflow-intel==2.11.0->tensorflow) (3.3)\n",
      "Requirement already satisfied: oauthlib>=3.0.0 in c:\\users\\admin\\anaconda3\\lib\\site-packages (from requests-oauthlib>=0.7.0->google-auth-oauthlib<0.5,>=0.4.1->tensorboard<2.12,>=2.11->tensorflow-intel==2.11.0->tensorflow) (3.2.2)\n",
      "Requirement already satisfied: pyparsing!=3.0.5,>=2.0.2 in c:\\users\\admin\\anaconda3\\lib\\site-packages (from packaging->tensorflow-intel==2.11.0->tensorflow) (3.0.4)\n",
      "Note: you may need to restart the kernel to use updated packages.\n"
     ]
    }
   ],
   "source": [
    "pip install tensorflow"
   ]
  },
  {
   "cell_type": "code",
   "execution_count": 15,
   "id": "1632ec2b",
   "metadata": {},
   "outputs": [],
   "source": [
    "import pandas as pd\n",
    "import numpy as np\n",
    "import seaborn as sns\n",
    "import matplotlib.pyplot as plt\n",
    "import warnings\n",
    "%matplotlib inline\n",
    "warnings.filterwarnings('ignore')\n",
    "from keras.models import Sequential\n",
    "from keras.layers import Dense\n",
    "from sklearn import linear_model\n",
    "from sklearn.metrics import mean_squared_error, mean_absolute_error"
   ]
  },
  {
   "cell_type": "code",
   "execution_count": 16,
   "id": "cdb6faa7",
   "metadata": {},
   "outputs": [],
   "source": [
    "from tensorflow.keras.datasets import boston_housing"
   ]
  },
  {
   "cell_type": "code",
   "execution_count": 17,
   "id": "1df1a26d",
   "metadata": {},
   "outputs": [
    {
     "name": "stdout",
     "output_type": "stream",
     "text": [
      "Downloading data from https://storage.googleapis.com/tensorflow/tf-keras-datasets/boston_housing.npz\n",
      "57026/57026 [==============================] - 0s 2us/step\n"
     ]
    }
   ],
   "source": [
    "(X_train,y_train),(X_test,y_test)=boston_housing.load_data()"
   ]
  },
  {
   "cell_type": "code",
   "execution_count": 18,
   "id": "cc224150",
   "metadata": {},
   "outputs": [],
   "source": [
    "from sklearn.preprocessing import StandardScaler\n",
    "scaler=StandardScaler()\n",
    "scaler.fit(X_train)\n",
    "X_train_scaled = scaler.transform(X_train)\n",
    "X_test_scaled = scaler.transform(X_test)"
   ]
  },
  {
   "cell_type": "code",
   "execution_count": 19,
   "id": "b1e01000",
   "metadata": {},
   "outputs": [],
   "source": [
    "model = Sequential()\n",
    "model.add(Dense(128, input_dim=13, activation='relu'))\n",
    "model.add(Dense(64, activation='relu'))\n",
    "#Output layer\n",
    "model.add(Dense(1, activation='linear'))"
   ]
  },
  {
   "cell_type": "code",
   "execution_count": 20,
   "id": "9a383e90",
   "metadata": {},
   "outputs": [
    {
     "name": "stdout",
     "output_type": "stream",
     "text": [
      "Model: \"sequential\"\n",
      "_________________________________________________________________\n",
      " Layer (type)                Output Shape              Param #   \n",
      "=================================================================\n",
      " dense (Dense)               (None, 128)               1792      \n",
      "                                                                 \n",
      " dense_1 (Dense)             (None, 64)                8256      \n",
      "                                                                 \n",
      " dense_2 (Dense)             (None, 1)                 65        \n",
      "                                                                 \n",
      "=================================================================\n",
      "Total params: 10,113\n",
      "Trainable params: 10,113\n",
      "Non-trainable params: 0\n",
      "_________________________________________________________________\n"
     ]
    }
   ],
   "source": [
    "model.compile(loss='mean_squared_error', optimizer='adam', metrics=['mae'])\n",
    "model.summary()"
   ]
  },
  {
   "cell_type": "code",
   "execution_count": 21,
   "id": "f8ca0fa1",
   "metadata": {},
   "outputs": [
    {
     "name": "stdout",
     "output_type": "stream",
     "text": [
      "Epoch 1/100\n",
      "11/11 [==============================] - 1s 18ms/step - loss: 527.1442 - mae: 20.9425 - val_loss: 557.1986 - val_mae: 21.6612\n",
      "Epoch 2/100\n",
      "11/11 [==============================] - 0s 4ms/step - loss: 459.5122 - mae: 19.2364 - val_loss: 478.6644 - val_mae: 19.7934\n",
      "Epoch 3/100\n",
      "11/11 [==============================] - 0s 4ms/step - loss: 375.7867 - mae: 17.0306 - val_loss: 380.9888 - val_mae: 17.2214\n",
      "Epoch 4/100\n",
      "11/11 [==============================] - 0s 4ms/step - loss: 278.6344 - mae: 14.2504 - val_loss: 267.0987 - val_mae: 14.0017\n",
      "Epoch 5/100\n",
      "11/11 [==============================] - 0s 4ms/step - loss: 175.4266 - mae: 10.9094 - val_loss: 162.3460 - val_mae: 10.2143\n",
      "Epoch 6/100\n",
      "11/11 [==============================] - 0s 4ms/step - loss: 103.5228 - mae: 8.1485 - val_loss: 93.5065 - val_mae: 7.4483\n",
      "Epoch 7/100\n",
      "11/11 [==============================] - 0s 4ms/step - loss: 66.0614 - mae: 6.2415 - val_loss: 66.2458 - val_mae: 6.1485\n",
      "Epoch 8/100\n",
      "11/11 [==============================] - 0s 4ms/step - loss: 51.0970 - mae: 5.2940 - val_loss: 49.9209 - val_mae: 5.1847\n",
      "Epoch 9/100\n",
      "11/11 [==============================] - 0s 4ms/step - loss: 38.9754 - mae: 4.4832 - val_loss: 37.6090 - val_mae: 4.5659\n",
      "Epoch 10/100\n",
      "11/11 [==============================] - 0s 4ms/step - loss: 30.4913 - mae: 3.9443 - val_loss: 29.8002 - val_mae: 4.0864\n",
      "Epoch 11/100\n",
      "11/11 [==============================] - 0s 4ms/step - loss: 25.8002 - mae: 3.5745 - val_loss: 26.1442 - val_mae: 3.8780\n",
      "Epoch 12/100\n",
      "11/11 [==============================] - 0s 4ms/step - loss: 23.2597 - mae: 3.3868 - val_loss: 23.8028 - val_mae: 3.6959\n",
      "Epoch 13/100\n",
      "11/11 [==============================] - 0s 4ms/step - loss: 21.3637 - mae: 3.2295 - val_loss: 22.5191 - val_mae: 3.5795\n",
      "Epoch 14/100\n",
      "11/11 [==============================] - 0s 4ms/step - loss: 20.0091 - mae: 3.1205 - val_loss: 21.2438 - val_mae: 3.5256\n",
      "Epoch 15/100\n",
      "11/11 [==============================] - 0s 4ms/step - loss: 18.8725 - mae: 3.0572 - val_loss: 20.3419 - val_mae: 3.4752\n",
      "Epoch 16/100\n",
      "11/11 [==============================] - 0s 4ms/step - loss: 17.8798 - mae: 2.9678 - val_loss: 19.5637 - val_mae: 3.3846\n",
      "Epoch 17/100\n",
      "11/11 [==============================] - 0s 3ms/step - loss: 17.1094 - mae: 2.8793 - val_loss: 18.7958 - val_mae: 3.3132\n",
      "Epoch 18/100\n",
      "11/11 [==============================] - 0s 4ms/step - loss: 16.5620 - mae: 2.8452 - val_loss: 18.2455 - val_mae: 3.2932\n",
      "Epoch 19/100\n",
      "11/11 [==============================] - 0s 4ms/step - loss: 15.7871 - mae: 2.7645 - val_loss: 17.8558 - val_mae: 3.2718\n",
      "Epoch 20/100\n",
      "11/11 [==============================] - 0s 4ms/step - loss: 15.2320 - mae: 2.7198 - val_loss: 17.4029 - val_mae: 3.2029\n",
      "Epoch 21/100\n",
      "11/11 [==============================] - 0s 4ms/step - loss: 14.5741 - mae: 2.6476 - val_loss: 16.9341 - val_mae: 3.1620\n",
      "Epoch 22/100\n",
      "11/11 [==============================] - 0s 4ms/step - loss: 14.3582 - mae: 2.6074 - val_loss: 16.5777 - val_mae: 3.1050\n",
      "Epoch 23/100\n",
      "11/11 [==============================] - 0s 4ms/step - loss: 13.6469 - mae: 2.5374 - val_loss: 16.1533 - val_mae: 3.0795\n",
      "Epoch 24/100\n",
      "11/11 [==============================] - 0s 4ms/step - loss: 13.4463 - mae: 2.5441 - val_loss: 16.1656 - val_mae: 3.0448\n",
      "Epoch 25/100\n",
      "11/11 [==============================] - 0s 3ms/step - loss: 12.8250 - mae: 2.5022 - val_loss: 15.6304 - val_mae: 3.0133\n",
      "Epoch 26/100\n",
      "11/11 [==============================] - 0s 3ms/step - loss: 12.5823 - mae: 2.4581 - val_loss: 15.3359 - val_mae: 2.9709\n",
      "Epoch 27/100\n",
      "11/11 [==============================] - 0s 3ms/step - loss: 12.2431 - mae: 2.3832 - val_loss: 15.1954 - val_mae: 3.0029\n",
      "Epoch 28/100\n",
      "11/11 [==============================] - 0s 3ms/step - loss: 12.0260 - mae: 2.3595 - val_loss: 15.0781 - val_mae: 2.9493\n",
      "Epoch 29/100\n",
      "11/11 [==============================] - 0s 4ms/step - loss: 11.6948 - mae: 2.3602 - val_loss: 14.9931 - val_mae: 2.8939\n",
      "Epoch 30/100\n",
      "11/11 [==============================] - 0s 3ms/step - loss: 11.3184 - mae: 2.3259 - val_loss: 14.9496 - val_mae: 2.9272\n",
      "Epoch 31/100\n",
      "11/11 [==============================] - 0s 3ms/step - loss: 11.1941 - mae: 2.3142 - val_loss: 14.8753 - val_mae: 2.8818\n",
      "Epoch 32/100\n",
      "11/11 [==============================] - 0s 3ms/step - loss: 12.4064 - mae: 2.5235 - val_loss: 16.4425 - val_mae: 2.9298\n",
      "Epoch 33/100\n",
      "11/11 [==============================] - 0s 4ms/step - loss: 10.8102 - mae: 2.3039 - val_loss: 14.2711 - val_mae: 2.9112\n",
      "Epoch 34/100\n",
      "11/11 [==============================] - 0s 4ms/step - loss: 10.8291 - mae: 2.2465 - val_loss: 14.0181 - val_mae: 2.8511\n",
      "Epoch 35/100\n",
      "11/11 [==============================] - 0s 4ms/step - loss: 10.2708 - mae: 2.2082 - val_loss: 13.9831 - val_mae: 2.8054\n",
      "Epoch 36/100\n",
      "11/11 [==============================] - 0s 3ms/step - loss: 10.2256 - mae: 2.2447 - val_loss: 14.2998 - val_mae: 2.8169\n",
      "Epoch 37/100\n",
      "11/11 [==============================] - 0s 4ms/step - loss: 10.0902 - mae: 2.2480 - val_loss: 14.2094 - val_mae: 2.7841\n",
      "Epoch 38/100\n",
      "11/11 [==============================] - 0s 4ms/step - loss: 10.0676 - mae: 2.2477 - val_loss: 14.1710 - val_mae: 2.7950\n",
      "Epoch 39/100\n",
      "11/11 [==============================] - 0s 4ms/step - loss: 9.9225 - mae: 2.2009 - val_loss: 13.6796 - val_mae: 2.7533\n",
      "Epoch 40/100\n",
      "11/11 [==============================] - 0s 4ms/step - loss: 9.6715 - mae: 2.1601 - val_loss: 13.4156 - val_mae: 2.7173\n",
      "Epoch 41/100\n",
      "11/11 [==============================] - 0s 4ms/step - loss: 9.5311 - mae: 2.1381 - val_loss: 13.6204 - val_mae: 2.7195\n",
      "Epoch 42/100\n",
      "11/11 [==============================] - 0s 4ms/step - loss: 9.5131 - mae: 2.1642 - val_loss: 13.7094 - val_mae: 2.7205\n",
      "Epoch 43/100\n",
      "11/11 [==============================] - 0s 4ms/step - loss: 9.3978 - mae: 2.1336 - val_loss: 13.3166 - val_mae: 2.7062\n",
      "Epoch 44/100\n",
      "11/11 [==============================] - 0s 4ms/step - loss: 9.3021 - mae: 2.1049 - val_loss: 13.4085 - val_mae: 2.7200\n",
      "Epoch 45/100\n",
      "11/11 [==============================] - 0s 4ms/step - loss: 9.4047 - mae: 2.0889 - val_loss: 13.2322 - val_mae: 2.7565\n",
      "Epoch 46/100\n",
      "11/11 [==============================] - 0s 4ms/step - loss: 9.2921 - mae: 2.0923 - val_loss: 13.5459 - val_mae: 2.6866\n",
      "Epoch 47/100\n",
      "11/11 [==============================] - 0s 4ms/step - loss: 9.2408 - mae: 2.1224 - val_loss: 13.8224 - val_mae: 2.6950\n",
      "Epoch 48/100\n",
      "11/11 [==============================] - 0s 3ms/step - loss: 8.9959 - mae: 2.1095 - val_loss: 14.0899 - val_mae: 2.7166\n",
      "Epoch 49/100\n",
      "11/11 [==============================] - 0s 3ms/step - loss: 9.0291 - mae: 2.0961 - val_loss: 13.8677 - val_mae: 2.7271\n",
      "Epoch 50/100\n",
      "11/11 [==============================] - 0s 4ms/step - loss: 8.8572 - mae: 2.0643 - val_loss: 13.7823 - val_mae: 2.6700\n",
      "Epoch 51/100\n",
      "11/11 [==============================] - 0s 3ms/step - loss: 8.8276 - mae: 2.0768 - val_loss: 13.8902 - val_mae: 2.6736\n",
      "Epoch 52/100\n",
      "11/11 [==============================] - 0s 3ms/step - loss: 8.7998 - mae: 2.0773 - val_loss: 13.5914 - val_mae: 2.6338\n",
      "Epoch 53/100\n",
      "11/11 [==============================] - 0s 3ms/step - loss: 8.7394 - mae: 2.0379 - val_loss: 13.6745 - val_mae: 2.6698\n",
      "Epoch 54/100\n",
      "11/11 [==============================] - 0s 3ms/step - loss: 8.6428 - mae: 2.0514 - val_loss: 13.7985 - val_mae: 2.6243\n",
      "Epoch 55/100\n",
      "11/11 [==============================] - 0s 3ms/step - loss: 8.5477 - mae: 2.0524 - val_loss: 13.6235 - val_mae: 2.6203\n",
      "Epoch 56/100\n",
      "11/11 [==============================] - 0s 3ms/step - loss: 8.4879 - mae: 2.0290 - val_loss: 13.8307 - val_mae: 2.6796\n",
      "Epoch 57/100\n",
      "11/11 [==============================] - 0s 3ms/step - loss: 8.4481 - mae: 2.0285 - val_loss: 14.1999 - val_mae: 2.6959\n",
      "Epoch 58/100\n",
      "11/11 [==============================] - 0s 3ms/step - loss: 8.4611 - mae: 2.0331 - val_loss: 13.9530 - val_mae: 2.6628\n",
      "Epoch 59/100\n",
      "11/11 [==============================] - 0s 4ms/step - loss: 8.2897 - mae: 2.0181 - val_loss: 13.9931 - val_mae: 2.6362\n",
      "Epoch 60/100\n",
      "11/11 [==============================] - 0s 3ms/step - loss: 8.2184 - mae: 2.0098 - val_loss: 13.6108 - val_mae: 2.6349\n",
      "Epoch 61/100\n",
      "11/11 [==============================] - 0s 3ms/step - loss: 8.2265 - mae: 1.9805 - val_loss: 13.5251 - val_mae: 2.6327\n",
      "Epoch 62/100\n"
     ]
    },
    {
     "name": "stdout",
     "output_type": "stream",
     "text": [
      "11/11 [==============================] - 0s 3ms/step - loss: 8.1223 - mae: 1.9779 - val_loss: 14.0673 - val_mae: 2.6389\n",
      "Epoch 63/100\n",
      "11/11 [==============================] - 0s 3ms/step - loss: 8.1535 - mae: 1.9952 - val_loss: 14.2110 - val_mae: 2.6690\n",
      "Epoch 64/100\n",
      "11/11 [==============================] - 0s 3ms/step - loss: 8.0526 - mae: 1.9693 - val_loss: 13.7758 - val_mae: 2.6427\n",
      "Epoch 65/100\n",
      "11/11 [==============================] - 0s 3ms/step - loss: 8.1579 - mae: 1.9560 - val_loss: 13.6350 - val_mae: 2.6373\n",
      "Epoch 66/100\n",
      "11/11 [==============================] - 0s 3ms/step - loss: 8.0409 - mae: 1.9573 - val_loss: 13.9728 - val_mae: 2.6071\n",
      "Epoch 67/100\n",
      "11/11 [==============================] - 0s 3ms/step - loss: 8.0095 - mae: 1.9673 - val_loss: 13.9329 - val_mae: 2.6423\n",
      "Epoch 68/100\n",
      "11/11 [==============================] - 0s 3ms/step - loss: 8.0369 - mae: 1.9485 - val_loss: 13.7572 - val_mae: 2.6625\n",
      "Epoch 69/100\n",
      "11/11 [==============================] - 0s 3ms/step - loss: 7.8958 - mae: 1.9477 - val_loss: 14.1228 - val_mae: 2.5907\n",
      "Epoch 70/100\n",
      "11/11 [==============================] - 0s 3ms/step - loss: 8.2756 - mae: 2.0600 - val_loss: 14.2902 - val_mae: 2.6289\n",
      "Epoch 71/100\n",
      "11/11 [==============================] - 0s 3ms/step - loss: 8.0621 - mae: 2.0118 - val_loss: 13.5287 - val_mae: 2.6307\n",
      "Epoch 72/100\n",
      "11/11 [==============================] - 0s 3ms/step - loss: 7.7809 - mae: 1.9452 - val_loss: 13.7645 - val_mae: 2.6294\n",
      "Epoch 73/100\n",
      "11/11 [==============================] - 0s 3ms/step - loss: 7.7825 - mae: 1.9687 - val_loss: 13.9713 - val_mae: 2.5846\n",
      "Epoch 74/100\n",
      "11/11 [==============================] - 0s 3ms/step - loss: 7.6661 - mae: 1.8968 - val_loss: 13.3250 - val_mae: 2.6016\n",
      "Epoch 75/100\n",
      "11/11 [==============================] - 0s 3ms/step - loss: 7.6325 - mae: 1.8744 - val_loss: 13.7647 - val_mae: 2.5961\n",
      "Epoch 76/100\n",
      "11/11 [==============================] - 0s 3ms/step - loss: 7.8549 - mae: 1.9787 - val_loss: 14.0343 - val_mae: 2.5621\n",
      "Epoch 77/100\n",
      "11/11 [==============================] - 0s 3ms/step - loss: 7.5987 - mae: 1.9000 - val_loss: 13.6924 - val_mae: 2.6209\n",
      "Epoch 78/100\n",
      "11/11 [==============================] - 0s 3ms/step - loss: 7.5220 - mae: 1.8691 - val_loss: 13.9796 - val_mae: 2.6046\n",
      "Epoch 79/100\n",
      "11/11 [==============================] - 0s 3ms/step - loss: 7.3528 - mae: 1.8853 - val_loss: 14.0674 - val_mae: 2.5558\n",
      "Epoch 80/100\n",
      "11/11 [==============================] - 0s 3ms/step - loss: 7.3523 - mae: 1.8825 - val_loss: 13.3383 - val_mae: 2.5813\n",
      "Epoch 81/100\n",
      "11/11 [==============================] - 0s 3ms/step - loss: 7.4326 - mae: 1.9035 - val_loss: 13.8693 - val_mae: 2.5830\n",
      "Epoch 82/100\n",
      "11/11 [==============================] - 0s 3ms/step - loss: 7.1814 - mae: 1.8793 - val_loss: 13.7752 - val_mae: 2.5652\n",
      "Epoch 83/100\n",
      "11/11 [==============================] - 0s 3ms/step - loss: 7.1753 - mae: 1.8502 - val_loss: 13.9143 - val_mae: 2.5815\n",
      "Epoch 84/100\n",
      "11/11 [==============================] - 0s 3ms/step - loss: 7.1443 - mae: 1.8616 - val_loss: 14.0551 - val_mae: 2.5937\n",
      "Epoch 85/100\n",
      "11/11 [==============================] - 0s 3ms/step - loss: 7.0447 - mae: 1.8300 - val_loss: 14.3835 - val_mae: 2.6431\n",
      "Epoch 86/100\n",
      "11/11 [==============================] - 0s 4ms/step - loss: 7.5928 - mae: 1.9490 - val_loss: 14.7199 - val_mae: 2.6027\n",
      "Epoch 87/100\n",
      "11/11 [==============================] - 0s 4ms/step - loss: 7.1304 - mae: 1.8845 - val_loss: 14.4154 - val_mae: 2.6268\n",
      "Epoch 88/100\n",
      "11/11 [==============================] - 0s 4ms/step - loss: 6.9601 - mae: 1.8448 - val_loss: 13.8723 - val_mae: 2.5691\n",
      "Epoch 89/100\n",
      "11/11 [==============================] - 0s 4ms/step - loss: 6.9390 - mae: 1.8090 - val_loss: 13.9068 - val_mae: 2.5674\n",
      "Epoch 90/100\n",
      "11/11 [==============================] - 0s 5ms/step - loss: 6.9253 - mae: 1.7896 - val_loss: 14.3106 - val_mae: 2.6078\n",
      "Epoch 91/100\n",
      "11/11 [==============================] - 0s 4ms/step - loss: 6.9149 - mae: 1.7943 - val_loss: 14.0421 - val_mae: 2.5820\n",
      "Epoch 92/100\n",
      "11/11 [==============================] - 0s 4ms/step - loss: 6.7706 - mae: 1.8067 - val_loss: 14.5495 - val_mae: 2.5609\n",
      "Epoch 93/100\n",
      "11/11 [==============================] - 0s 3ms/step - loss: 7.2319 - mae: 1.9257 - val_loss: 13.8606 - val_mae: 2.6027\n",
      "Epoch 94/100\n",
      "11/11 [==============================] - 0s 3ms/step - loss: 6.9841 - mae: 1.7925 - val_loss: 12.7150 - val_mae: 2.5792\n",
      "Epoch 95/100\n",
      "11/11 [==============================] - 0s 3ms/step - loss: 6.8183 - mae: 1.8003 - val_loss: 13.5656 - val_mae: 2.5370\n",
      "Epoch 96/100\n",
      "11/11 [==============================] - 0s 3ms/step - loss: 6.7935 - mae: 1.8116 - val_loss: 13.3497 - val_mae: 2.5053\n",
      "Epoch 97/100\n",
      "11/11 [==============================] - 0s 3ms/step - loss: 6.6692 - mae: 1.7799 - val_loss: 14.1588 - val_mae: 2.5192\n",
      "Epoch 98/100\n",
      "11/11 [==============================] - 0s 3ms/step - loss: 6.9943 - mae: 1.8762 - val_loss: 14.9423 - val_mae: 2.5793\n",
      "Epoch 99/100\n",
      "11/11 [==============================] - 0s 3ms/step - loss: 6.6089 - mae: 1.8082 - val_loss: 14.0520 - val_mae: 2.5609\n",
      "Epoch 100/100\n",
      "11/11 [==============================] - 0s 3ms/step - loss: 6.5489 - mae: 1.7485 - val_loss: 13.8161 - val_mae: 2.5174\n"
     ]
    }
   ],
   "source": [
    "history = model.fit(X_train_scaled, y_train, validation_split=0.2, epochs =100)"
   ]
  },
  {
   "cell_type": "code",
   "execution_count": 22,
   "id": "65efa572",
   "metadata": {},
   "outputs": [
    {
     "data": {
      "image/png": "[encoded data removed]",
      "text/plain": [
       "<Figure size 432x288 with 1 Axes>"
      ]
     },
     "metadata": {
      "needs_background": "light"
     },
     "output_type": "display_data"
    }
   ],
   "source": [
    "from matplotlib import pyplot as plt\n",
    "#plot the training and validation accuracy and loss at each epoch\n",
    "loss = history.history['loss']\n",
    "val_loss = history.history['val_loss']\n",
    "epochs = range(1, len(loss) + 1)\n",
    "plt.plot(epochs, loss, 'y', label='Training loss')\n",
    "plt.plot(epochs, val_loss, 'r', label='Validation loss')\n",
    "plt.title('Training and validation loss')\n",
    "plt.xlabel('Epochs')\n",
    "plt.ylabel('Loss')\n",
    "plt.legend()\n",
    "plt.show()"
   ]
  },
  {
   "cell_type": "code",
   "execution_count": 23,
   "id": "9fb4a2c1",
   "metadata": {},
   "outputs": [
    {
     "name": "stdout",
     "output_type": "stream",
     "text": [
      "4/4 [==============================] - 0s 3ms/step - loss: 21.2744 - mae: 2.8755\n",
      "Mean squared error from neural net:  21.274375915527344\n",
      "Mean absolute error from neural net:  2.8754799365997314\n"
     ]
    }
   ],
   "source": [
    "mse_neural, mae_neural = model.evaluate(X_test_scaled, y_test)\n",
    "print('Mean squared error from neural net: ', mse_neural)\n",
    "print('Mean absolute error from neural net: ', mae_neural)"
   ]
  },
  {
   "cell_type": "code",
   "execution_count": 24,
   "id": "3df63f3f",
   "metadata": {},
   "outputs": [
    {
     "name": "stdout",
     "output_type": "stream",
     "text": [
      "1/1 [==============================] - 0s 91ms/step\n",
      "Predicted values are:  [[ 8.497615]\n",
      " [18.503855]\n",
      " [21.08975 ]\n",
      " [32.57831 ]\n",
      " [25.13023 ]]\n",
      "Real values are:  [ 7.2 18.8 19.  27.  22.2]\n"
     ]
    }
   ],
   "source": [
    "predictions = model.predict(X_test_scaled[:5])\n",
    "print(\"Predicted values are: \", predictions)\n",
    "print(\"Real values are: \", y_test[:5])"
   ]
  },
  {
   "cell_type": "code",
   "execution_count": 25,
   "id": "57ae1c40",
   "metadata": {},
   "outputs": [
    {
     "name": "stdout",
     "output_type": "stream",
     "text": [
      "Mean squared error from linear regression:  23.195599256422977\n",
      "Mean absolute error from linear regression:  3.4641858124067166\n"
     ]
    }
   ],
   "source": [
    "lr_model = linear_model.LinearRegression()\n",
    "lr_model.fit(X_train_scaled, y_train)\n",
    "y_pred_lr = lr_model.predict(X_test_scaled)\n",
    "mse_lr = mean_squared_error(y_test, y_pred_lr)\n",
    "mae_lr = mean_absolute_error(y_test, y_pred_lr)\n",
    "print('Mean squared error from linear regression: ', mse_lr)\n",
    "print('Mean absolute error from linear regression: ', mae_lr)"
   ]
  },
  {
   "cell_type": "code",
   "execution_count": null,
   "id": "cc1c6ae9",
   "metadata": {},
   "outputs": [],
   "source": []
  }
 ],
 "metadata": {
  "kernelspec": {
   "display_name": "Python 3 (ipykernel)",
   "language": "python",
   "name": "python3"
  },
  "language_info": {
   "codemirror_mode": {
    "name": "ipython",
    "version": 3
   },
   "file_extension": ".py",
   "mimetype": "text/x-python",
   "name": "python",
   "nbconvert_exporter": "python",
   "pygments_lexer": "ipython3",
   "version": "3.9.12"
  }
 },
 "nbformat": 4,
 "nbformat_minor": 5
}
