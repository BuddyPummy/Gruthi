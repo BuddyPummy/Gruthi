{
 "cells": [
  {
   "cell_type": "code",
   "execution_count": 40,
   "id": "169b22d5",
   "metadata": {},
   "outputs": [],
   "source": [
    "import nltk\n",
    "from nltk import *\n",
    "sent = \"India is a republic nation. We are proud Indians\"\n"
   ]
  },
  {
   "cell_type": "code",
   "execution_count": 41,
   "id": "5eb26b39",
   "metadata": {},
   "outputs": [
    {
     "name": "stdout",
     "output_type": "stream",
     "text": [
      "48\n",
      "India\n",
      "republic\n"
     ]
    }
   ],
   "source": [
    "print(len(sent))   #Prints the number of characters\n",
    "print(sent[0:5])   #Prints 'India'\n",
    "print(sent[11:19]) #Prints 'republic'\n"
   ]
  },
  {
   "cell_type": "code",
   "execution_count": 42,
   "id": "161a8afa",
   "metadata": {},
   "outputs": [
    {
     "name": "stdout",
     "output_type": "stream",
     "text": [
      "['India', 'is', 'a', 'republic', 'nation', '.', 'We', 'are', 'proud', 'Indians']\n"
     ]
    }
   ],
   "source": [
    "print(nltk.word_tokenize(sent)) \n",
    "#Prints list of words ['India', 'is', 'a', 'republic', 'nation', '.', 'We', 'are', 'proud', 'Indians']\n"
   ]
  },
  {
   "cell_type": "code",
   "execution_count": 43,
   "id": "56b70aa1",
   "metadata": {},
   "outputs": [
    {
     "name": "stdout",
     "output_type": "stream",
     "text": [
      "['.', 'India', 'Indians', 'We', 'a', 'are', 'is', 'nation', 'proud', 'republic']\n"
     ]
    }
   ],
   "source": [
    "tokens = nltk.word_tokenize(sent)\n",
    "vocab = sorted(set(tokens))\n",
    "print(vocab) #Prints ['.', 'India', 'Indians', 'We', 'a', 'are', 'country', 'is', 'proud', 'republic']\n"
   ]
  },
  {
   "cell_type": "code",
   "execution_count": 44,
   "id": "b6e6841b",
   "metadata": {},
   "outputs": [
    {
     "name": "stdout",
     "output_type": "stream",
     "text": [
      "['India', 'Indians', 'We', 'a', 'are', 'is', 'nation', 'proud', 'republic']\n"
     ]
    }
   ],
   "source": [
    "from string import punctuation\n",
    "vocab_wo_punct=[]\n",
    "for i in vocab:\n",
    "    if i not in punctuation:\n",
    "        vocab_wo_punct.append(i)\n",
    "print(vocab_wo_punct) #Prints ['India', 'Indians', 'We', 'a', 'are', 'country', 'is', 'proud', 'republ\n",
    "\n"
   ]
  },
  {
   "cell_type": "code",
   "execution_count": 45,
   "id": "d5a5b744",
   "metadata": {},
   "outputs": [
    {
     "name": "stderr",
     "output_type": "stream",
     "text": [
      "[nltk_data] Downloading package averaged_perceptron_tagger to\n",
      "[nltk_data]     C:\\Users\\Admin\\AppData\\Roaming\\nltk_data...\n",
      "[nltk_data]   Package averaged_perceptron_tagger is already up-to-\n",
      "[nltk_data]       date!\n"
     ]
    },
    {
     "data": {
      "text/plain": [
       "True"
      ]
     },
     "execution_count": 45,
     "metadata": {},
     "output_type": "execute_result"
    }
   ],
   "source": [
    "nltk.download('averaged_perceptron_tagger')\n"
   ]
  },
  {
   "cell_type": "code",
   "execution_count": 46,
   "id": "255a5d90",
   "metadata": {},
   "outputs": [
    {
     "name": "stdout",
     "output_type": "stream",
     "text": [
      "[('India', 'NNP'), ('Indians', 'NNPS'), ('We', 'PRP'), ('a', 'DT'), ('are', 'VBP'), ('is', 'VBZ'), ('nation', 'NN'), ('proud', 'JJ'), ('republic', 'NN')]\n"
     ]
    },
    {
     "data": {
      "text/plain": [
       "\" Prints [('India', 'NNP'), ('Indians', 'NNPS'), ('We', 'PRP'), ('a', 'DT'), \\n\\xa0           ('are', 'VBP'), ('country', 'NN'), ('is', 'VBZ'), ('proud', 'JJ'), \\n            ('republic', 'JJ'), ('India', 'NNP')]\\xa0\""
      ]
     },
     "execution_count": 46,
     "metadata": {},
     "output_type": "execute_result"
    }
   ],
   "source": [
    "from nltk import pos_tag\n",
    "pos_list = pos_tag(vocab_wo_punct)\n",
    "print(pos_list)\n",
    "\"\"\" Prints [('India', 'NNP'), ('Indians', 'NNPS'), ('We', 'PRP'), ('a', 'DT'), \n",
    "            ('are', 'VBP'), ('country', 'NN'), ('is', 'VBZ'), ('proud', 'JJ'), \n",
    "            ('republic', 'JJ'), ('India', 'NNP')] \"\"\"\n"
   ]
  },
  {
   "cell_type": "code",
   "execution_count": 47,
   "id": "207f8628",
   "metadata": {},
   "outputs": [
    {
     "name": "stdout",
     "output_type": "stream",
     "text": [
      "['india', 'indian', 'we', 'a', 'are', 'is', 'nation', 'proud', 'republ']\n"
     ]
    }
   ],
   "source": [
    "from nltk.stem.snowball import SnowballStemmer\n",
    "stemObj = SnowballStemmer(\"english\")\n",
    "stemObj.stem(\"Studying\")\n",
    "stemmed_vocab=[]\n",
    "stemObj = SnowballStemmer(\"english\")\n",
    "for i in vocab_wo_punct:\n",
    "    stemmed_vocab.append(stemObj.stem(i))\n",
    "print(stemmed_vocab) \n"
   ]
  },
  {
   "cell_type": "code",
   "execution_count": 53,
   "id": "f4864510",
   "metadata": {},
   "outputs": [
    {
     "name": "stderr",
     "output_type": "stream",
     "text": [
      "[nltk_data] Downloading package wordnet to\n",
      "[nltk_data]     C:\\Users\\Admin\\AppData\\Roaming\\nltk_data...\n"
     ]
    },
    {
     "data": {
      "text/plain": [
       "True"
      ]
     },
     "execution_count": 53,
     "metadata": {},
     "output_type": "execute_result"
    }
   ],
   "source": [
    "nltk.download('wordnet')"
   ]
  },
  {
   "cell_type": "code",
   "execution_count": 55,
   "id": "7c249f36",
   "metadata": {},
   "outputs": [
    {
     "name": "stderr",
     "output_type": "stream",
     "text": [
      "[nltk_data] Downloading package omw-1.4 to\n",
      "[nltk_data]     C:\\Users\\Admin\\AppData\\Roaming\\nltk_data...\n"
     ]
    },
    {
     "data": {
      "text/plain": [
       "True"
      ]
     },
     "execution_count": 55,
     "metadata": {},
     "output_type": "execute_result"
    }
   ],
   "source": [
    "nltk.download('omw-1.4')"
   ]
  },
  {
   "cell_type": "code",
   "execution_count": 56,
   "id": "75ea5e3e",
   "metadata": {},
   "outputs": [
    {
     "data": {
      "text/plain": [
       "'go'"
      ]
     },
     "execution_count": 56,
     "metadata": {},
     "output_type": "execute_result"
    }
   ],
   "source": [
    "from nltk.stem.wordnet import WordNetLemmatizer\n",
    "lemmaObj =WordNetLemmatizer()\n",
    "lemmaObj.lemmatize(\"went\",pos='v')\n"
   ]
  },
  {
   "cell_type": "code",
   "execution_count": 58,
   "id": "3c3b880c",
   "metadata": {},
   "outputs": [
    {
     "data": {
      "text/plain": [
       "'go'"
      ]
     },
     "execution_count": 58,
     "metadata": {},
     "output_type": "execute_result"
    }
   ],
   "source": [
    "from nltk.stem.wordnet import WordNetLemmatizer\n",
    "lemmaObj =WordNetLemmatizer()\n",
    "lemmaObj.lemmatize(\"went\",pos='v')\n"
   ]
  },
  {
   "cell_type": "code",
   "execution_count": 61,
   "id": "a7a099e4",
   "metadata": {},
   "outputs": [
    {
     "name": "stderr",
     "output_type": "stream",
     "text": [
      "[nltk_data] Downloading package stopwords to\n",
      "[nltk_data]     C:\\Users\\Admin\\AppData\\Roaming\\nltk_data...\n",
      "[nltk_data]   Unzipping corpora\\stopwords.zip.\n"
     ]
    },
    {
     "data": {
      "text/plain": [
       "True"
      ]
     },
     "execution_count": 61,
     "metadata": {},
     "output_type": "execute_result"
    }
   ],
   "source": [
    "nltk.download('stopwords')"
   ]
  },
  {
   "cell_type": "code",
   "execution_count": 63,
   "id": "adfa28fe",
   "metadata": {},
   "outputs": [
    {
     "name": "stdout",
     "output_type": "stream",
     "text": [
      "['India', 'Indians', 'We', 'nation', 'proud', 'republic']\n"
     ]
    }
   ],
   "source": [
    "from nltk.corpus import stopwords\n",
    "wo_stop_words = []\n",
    "stop_words_set = set(stopwords.words(\"english\"))\n",
    "for i in vocab_wo_punct:\n",
    "    if i not in stop_words_set:\n",
    "        wo_stop_words.append(i)\n",
    "print(wo_stop_words)\n"
   ]
  },
  {
   "cell_type": "code",
   "execution_count": null,
   "id": "700241b1",
   "metadata": {},
   "outputs": [],
   "source": []
  }
 ],
 "metadata": {
  "kernelspec": {
   "display_name": "Python 3 (ipykernel)",
   "language": "python",
   "name": "python3"
  },
  "language_info": {
   "codemirror_mode": {
    "name": "ipython",
    "version": 3
   },
   "file_extension": ".py",
   "mimetype": "text/x-python",
   "name": "python",
   "nbconvert_exporter": "python",
   "pygments_lexer": "ipython3",
   "version": "3.9.12"
  }
 },
 "nbformat": 4,
 "nbformat_minor": 5
}
