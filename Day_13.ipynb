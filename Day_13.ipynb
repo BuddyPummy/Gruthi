{
  "nbformat": 4,
  "nbformat_minor": 0,
  "metadata": {
    "colab": {
      "provenance": [],
      "include_colab_link": true
    },
    "kernelspec": {
      "name": "python3",
      "display_name": "Python 3"
    },
    "language_info": {
      "name": "python"
    }
  },
  "cells": [
    {
      "cell_type": "markdown",
      "metadata": {
        "id": "view-in-github",
        "colab_type": "text"
      },
      "source": [
        "<a href=\"https://colab.research.google.com/github/BuddyPummy/Gruthi/blob/main/Day_13.ipynb\" target=\"_parent\"><img src=\"https://colab.research.google.com/assets/colab-badge.svg\" alt=\"Open In Colab\"/></a>"
      ]
    },
    {
      "cell_type": "code",
      "execution_count": null,
      "metadata": {
        "colab": {
          "base_uri": "https://localhost:8080/"
        },
        "id": "GVvTkEiIbp_d",
        "outputId": "48d11113-c328-4cb6-d938-9790aaf8e13d"
      },
      "outputs": [
        {
          "output_type": "stream",
          "name": "stdout",
          "text": [
            "[3, 2, 1, 5, 4]\n"
          ]
        }
      ],
      "source": [
        "def reverse(arr,k):\n",
        "    for i in range(0,len(arr),k):\n",
        "         arr[i:i+k]=arr[i:i+k][::-1]\n",
        "    return arr\n",
        "arr=[1,2,3,4,5]\n",
        "k=3\n",
        "print(reverse(arr,k))    "
      ]
    }
  ]
}