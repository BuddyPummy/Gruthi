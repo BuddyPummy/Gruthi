{
  "nbformat": 4,
  "nbformat_minor": 0,
  "metadata": {
    "colab": {
      "provenance": [],
      "include_colab_link": true
    },
    "kernelspec": {
      "name": "python3",
      "display_name": "Python 3"
    },
    "language_info": {
      "name": "python"
    }
  },
  "cells": [
    {
      "cell_type": "markdown",
      "metadata": {
        "id": "view-in-github",
        "colab_type": "text"
      },
      "source": [
        "<a href=\"https://colab.research.google.com/github/BuddyPummy/Gruthi/blob/main/Day_6_.ipynb\" target=\"_parent\"><img src=\"https://colab.research.google.com/assets/colab-badge.svg\" alt=\"Open In Colab\"/></a>"
      ]
    },
    {
      "cell_type": "markdown",
      "source": [
        "slicing a tuple"
      ],
      "metadata": {
        "id": "tkq8qgq9vaav"
      }
    },
    {
      "cell_type": "code",
      "execution_count": null,
      "metadata": {
        "colab": {
          "base_uri": "https://localhost:8080/"
        },
        "id": "_uKCOXJLryBS",
        "outputId": "c38b826c-c2c5-4c6c-c73f-45dc4a2dcdce"
      },
      "outputs": [
        {
          "output_type": "stream",
          "name": "stdout",
          "text": [
            "('apple', 'banana', 'cherry', 'orange', 'kiwi')\n"
          ]
        }
      ],
      "source": [
        "thistuple=(\"apple\",\"banana\",\"cherry\",\"orange\",\"kiwi\",\"melon\",\"mango\")\n",
        "print(thistuple[:-2])"
      ]
    },
    {
      "cell_type": "markdown",
      "source": [
        "# once a tuple is created you cannot change its values.tuples are mutable"
      ],
      "metadata": {
        "id": "0aDAhiSryghD"
      }
    },
    {
      "cell_type": "markdown",
      "source": [
        "convert the tuple into a list to be able to change it"
      ],
      "metadata": {
        "id": "66aTzuC0zGPp"
      }
    },
    {
      "cell_type": "code",
      "source": [
        "x=(\"apple\",\"banana\",\"cherry\")\n",
        "y=list(x)\n",
        "y[1]=\"kiwi\"\n",
        "x=tuple(y)\n",
        "print(x)"
      ],
      "metadata": {
        "colab": {
          "base_uri": "https://localhost:8080/"
        },
        "id": "Ou0hgIfZxdYH",
        "outputId": "956c9c84-50f1-499d-8e73-0b0e453ba912"
      },
      "execution_count": null,
      "outputs": [
        {
          "output_type": "stream",
          "name": "stdout",
          "text": [
            "('apple', 'kiwi', 'cherry')\n"
          ]
        }
      ]
    },
    {
      "cell_type": "markdown",
      "source": [
        "# convert into list ,add orange,and convert it into tuple"
      ],
      "metadata": {
        "id": "bLUJv6MM0Ja_"
      }
    },
    {
      "cell_type": "code",
      "source": [
        "thistuple=(\"apple\",\"banana\",\"cherry\",\"orange\",\"kiwi\",\"melon\",\"mango\")\n",
        "y=list(thistuple)\n",
        "y.append(\"orange\")\n",
        "x=tuple(y)\n",
        "print(x)"
      ],
      "metadata": {
        "colab": {
          "base_uri": "https://localhost:8080/"
        },
        "id": "qjZucxVeweD0",
        "outputId": "f1495cfa-d23d-4d74-f199-e78f5b9a3e8c"
      },
      "execution_count": null,
      "outputs": [
        {
          "output_type": "stream",
          "name": "stdout",
          "text": [
            "('apple', 'banana', 'cherry', 'orange', 'kiwi', 'melon', 'mango', 'orange')\n"
          ]
        }
      ]
    },
    {
      "cell_type": "code",
      "source": [
        "a=(\"apple\",\"banana\",\"orange\",\"kiwi\")\n",
        "y=list(a)\n",
        "y.remove(\"apple\")\n",
        "a=tuple(y)\n",
        "print(a)"
      ],
      "metadata": {
        "colab": {
          "base_uri": "https://localhost:8080/"
        },
        "id": "-1klC_zV07hX",
        "outputId": "b956090c-88e2-4de7-d2ec-d44c33c872c8"
      },
      "execution_count": null,
      "outputs": [
        {
          "output_type": "stream",
          "name": "stdout",
          "text": [
            "('banana', 'orange', 'kiwi')\n"
          ]
        }
      ]
    },
    {
      "cell_type": "markdown",
      "source": [
        "# check if it is present in tuple"
      ],
      "metadata": {
        "id": "0k3dazHz2so2"
      }
    },
    {
      "cell_type": "code",
      "source": [
        "a=(\"apple\",\"banana\",\"orange\",\"kiwi\")\n",
        "if\"apple\" in a:\n",
        "  print(\"yes,'apple'is in fruit tuple\")"
      ],
      "metadata": {
        "colab": {
          "base_uri": "https://localhost:8080/"
        },
        "id": "DRhtU67n2W6B",
        "outputId": "2fdca9d0-409f-4767-b3c8-6e0c1af333cc"
      },
      "execution_count": null,
      "outputs": [
        {
          "output_type": "stream",
          "name": "stdout",
          "text": [
            "yes,'apple'is in fruit tuple\n"
          ]
        }
      ]
    },
    {
      "cell_type": "code",
      "source": [],
      "metadata": {
        "id": "UgFvSKmh2W8P"
      },
      "execution_count": null,
      "outputs": []
    }
  ]
}