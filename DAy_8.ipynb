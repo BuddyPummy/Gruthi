{
  "nbformat": 4,
  "nbformat_minor": 0,
  "metadata": {
    "colab": {
      "provenance": [],
      "include_colab_link": true
    },
    "kernelspec": {
      "name": "python3",
      "display_name": "Python 3"
    },
    "language_info": {
      "name": "python"
    }
  },
  "cells": [
    {
      "cell_type": "markdown",
      "metadata": {
        "id": "view-in-github",
        "colab_type": "text"
      },
      "source": [
        "<a href=\"https://colab.research.google.com/github/BuddyPummy/Gruthi/blob/main/DAy_8.ipynb\" target=\"_parent\"><img src=\"https://colab.research.google.com/assets/colab-badge.svg\" alt=\"Open In Colab\"/></a>"
      ]
    },
    {
      "cell_type": "markdown",
      "source": [],
      "metadata": {
        "id": "Y-z6fIsZsei-"
      }
    },
    {
      "cell_type": "markdown",
      "source": [
        "# set is unordered\n"
      ],
      "metadata": {
        "id": "BfRf5qPDoR5r"
      }
    },
    {
      "cell_type": "code",
      "source": [
        "thisset={\"apple\",\"mango\",\"kiwi\"}\n",
        "thisset.pop()\n",
        "print(thisset)\n"
      ],
      "metadata": {
        "colab": {
          "base_uri": "https://localhost:8080/"
        },
        "id": "-yy7of8Lulfe",
        "outputId": "7a8dd737-999b-4288-84d8-d89f3216968d"
      },
      "execution_count": null,
      "outputs": [
        {
          "output_type": "stream",
          "name": "stdout",
          "text": [
            "{'apple', 'kiwi'}\n"
          ]
        }
      ]
    },
    {
      "cell_type": "code",
      "source": [
        "x={\"p\",\"o\",\"23\",True}\n",
        "y={2,3,4}\n",
        "z=x.update(y)\n",
        "print(z)"
      ],
      "metadata": {
        "colab": {
          "base_uri": "https://localhost:8080/"
        },
        "id": "CRmdPGavulhy",
        "outputId": "50381785-2c42-4fee-f718-d75a889a2bf3"
      },
      "execution_count": null,
      "outputs": [
        {
          "output_type": "stream",
          "name": "stdout",
          "text": [
            "None\n"
          ]
        }
      ]
    },
    {
      "cell_type": "code",
      "source": [
        "x={\"a\",\"o\",\"p\"}\n",
        "a=x.copy()\n",
        "print(a)\n"
      ],
      "metadata": {
        "colab": {
          "base_uri": "https://localhost:8080/"
        },
        "id": "4dzSWoppxRoJ",
        "outputId": "52760b13-934d-4449-901d-8f8b01936967"
      },
      "execution_count": null,
      "outputs": [
        {
          "output_type": "stream",
          "name": "stdout",
          "text": [
            "{'a', 'o', 'p'}\n"
          ]
        }
      ]
    },
    {
      "cell_type": "code",
      "source": [
        "x={\"a\",\"m\",34,True,56,\"p\"}\n",
        "y={\"m\",\"green\",\"orenge\"}\n",
        "z=y.difference(x)\n",
        "print(z)"
      ],
      "metadata": {
        "colab": {
          "base_uri": "https://localhost:8080/"
        },
        "id": "7BTAicBHyHTD",
        "outputId": "4dc3cdb8-560a-4a04-c31a-b69197ae14c0"
      },
      "execution_count": null,
      "outputs": [
        {
          "output_type": "stream",
          "name": "stdout",
          "text": [
            "{'green', 'orenge'}\n"
          ]
        }
      ]
    },
    {
      "cell_type": "code",
      "source": [
        "={\"a\",\"d\",\"t\",\"r\"}\n",
        "a={\"f\",\"e\",\"t\"}\n",
        "z=x.issubset(a)\n",
        "print(z)"
      ],
      "metadata": {
        "colab": {
          "base_uri": "https://localhost:8080/"
        },
        "id": "gnoecvXfyHVG",
        "outputId": "ef25e86b-04fc-4751-ede6-680a3bcbb4e9"
      },
      "execution_count": null,
      "outputs": [
        {
          "output_type": "stream",
          "name": "stdout",
          "text": [
            "False\n"
          ]
        }
      ]
    },
    {
      "cell_type": "markdown",
      "source": [
        "# dictionaries"
      ],
      "metadata": {
        "id": "fSPWUQpnz0cd"
      }
    },
    {
      "cell_type": "code",
      "source": [
        "thisdict= {\n",
        "    \"brand\":\"ford\",\n",
        "    \"model\":\"mustang\",\n",
        "    \"year\":1964\n",
        "}\n",
        "thisdict.popitem()\n",
        "print(thisdict)"
      ],
      "metadata": {
        "colab": {
          "base_uri": "https://localhost:8080/"
        },
        "id": "CVE7N-S8yHaS",
        "outputId": "ef97ec95-7ddd-4313-d579-c61a3bf9f91a"
      },
      "execution_count": null,
      "outputs": [
        {
          "output_type": "stream",
          "name": "stdout",
          "text": [
            "{'brand': 'ford', 'model': 'mustang'}\n"
          ]
        }
      ]
    },
    {
      "cell_type": "code",
      "source": [
        "def factorial(n):\n",
        "   if n == 0:\n",
        "     return 1\n",
        "   else:\n",
        "     return n * factorial(n-1)\n",
        "num=24\n",
        "print(\"factoria of is\",factorial(num))\n"
      ],
      "metadata": {
        "colab": {
          "base_uri": "https://localhost:8080/"
        },
        "id": "lQCF7EbR3DB-",
        "outputId": "78d913fe-5498-4319-a804-1b80bcbf8445"
      },
      "execution_count": null,
      "outputs": [
        {
          "output_type": "stream",
          "name": "stdout",
          "text": [
            "factoria of is 620448401733239439360000\n"
          ]
        }
      ]
    },
    {
      "cell_type": "code",
      "source": [],
      "metadata": {
        "id": "OnwQX00y3DEE"
      },
      "execution_count": null,
      "outputs": []
    },
    {
      "cell_type": "code",
      "source": [],
      "metadata": {
        "id": "Ty4_0K8X3DHh"
      },
      "execution_count": null,
      "outputs": []
    },
    {
      "cell_type": "code",
      "source": [],
      "metadata": {
        "id": "SNre0Lgc3DJ3"
      },
      "execution_count": null,
      "outputs": []
    },
    {
      "cell_type": "code",
      "source": [],
      "metadata": {
        "id": "RvTM20Ff3DN8"
      },
      "execution_count": null,
      "outputs": []
    }
  ]
}