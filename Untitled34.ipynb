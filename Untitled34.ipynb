{
 "cells": [
  {
   "cell_type": "code",
   "execution_count": null,
   "id": "729da797",
   "metadata": {},
   "outputs": [],
   "source": [
    "import pandas as pd\n",
    "import datetime as dt\n",
    "data = pd.read_csv('D:/aiml/performance.csv')\n",
    "data"
   ]
  },
  {
   "cell_type": "code",
   "execution_count": null,
   "id": "7793c935",
   "metadata": {},
   "outputs": [],
   "source": [
    "print(data.shape)"
   ]
  },
  {
   "cell_type": "code",
   "execution_count": null,
   "id": "b7297f9c",
   "metadata": {},
   "outputs": [],
   "source": [
    "print(data.columns)"
   ]
  },
  {
   "cell_type": "code",
   "execution_count": null,
   "id": "1f78e776",
   "metadata": {},
   "outputs": [],
   "source": [
    "print(data.info())"
   ]
  },
  {
   "cell_type": "code",
   "execution_count": null,
   "id": "4811ea24",
   "metadata": {},
   "outputs": [],
   "source": [
    "data_df = data[[\"match_id\",\"inning\", \"batting_team\", \n",
    "                                  \"bowling_team\", \"over\", \"ball\", \n",
    "                                  \"batsman\"]]\n",
    "data_df"
   ]
  },
  {
   "cell_type": "code",
   "execution_count": null,
   "id": "7a95db5e",
   "metadata": {},
   "outputs": [],
   "source": [
    "cat_features = [\"batting_team\",\"bowling_team\",\"batsman\"]\n",
    "data_df = pd.get_dummies(data_df,columns=cat_features)\n",
    "print(data_df.columns)\n"
   ]
  },
  {
   "cell_type": "code",
   "execution_count": null,
   "id": "abdde314",
   "metadata": {},
   "outputs": [],
   "source": [
    "from sklearn.preprocessing import StandardScaler\n",
    "Scaler = StandardScaler().fit(data_df[[\"inning\",\"over\",\"ball\"]]) \n",
    "data_normalized = Scaler.transform(data_df[[\"inning\",\"over\",\"ball\"]])\n",
    "data_normalized\n"
   ]
  },
  {
   "cell_type": "code",
   "execution_count": null,
   "id": "d306e03c",
   "metadata": {},
   "outputs": [],
   "source": [
    "data_df_normalized=pd.DataFrame(data_normalized,columns=[\"inning\",\"over\",\"ball\"])\n",
    "data_df_normalized=data_df_normalized.join(data_df[data_df.columns.drop([\"inning\",\"over\",\"ball\"])])\n",
    "data_df_normalized"
   ]
  },
  {
   "cell_type": "code",
   "execution_count": null,
   "id": "b4a91e66",
   "metadata": {},
   "outputs": [],
   "source": [
    "Y = data_df_normalized['match_id']\n",
    "X = data_df_normalized[data_df_normalized.columns.drop('match_id')]\n",
    "print(X.shape)"
   ]
  },
  {
   "cell_type": "code",
   "execution_count": null,
   "id": "f3e97f84",
   "metadata": {},
   "outputs": [],
   "source": [
    "from sklearn.model_selection import train_test_split\n",
    "X_train,X_test,Y_train,Y_test = train_test_split(X,Y,test_size=0.2, random_state=100)\n",
    "X_train.shape , X_test.shape"
   ]
  },
  {
   "cell_type": "code",
   "execution_count": null,
   "id": "d9830bea",
   "metadata": {},
   "outputs": [],
   "source": [
    "\n",
    "from sklearn.linear_model import LinearRegression\n",
    "\n",
    "model = LinearRegression()\n",
    "model.fit(X_train,Y_train)\n",
    "\n",
    "train_score=model.score(X_train,Y_train)\n",
    "test_score=model.score(X_test,Y_test)\n",
    "print('Train Score (R-Squared): ',train_score)\n",
    "print('Test Score (R-Squared)',test_score)\n"
   ]
  },
  {
   "cell_type": "code",
   "execution_count": null,
   "id": "b673bd67",
   "metadata": {},
   "outputs": [],
   "source": [
    "from sklearn.metrics import mean_squared_error\n",
    "\n",
    "train_predictions = model.predict(X_train)\n",
    "train_RMSE=mean_squared_error(Y_train,train_predictions)**0.5\n",
    "\n",
    "test_predictions = model.predict(X_test)\n",
    "test_RMSE=mean_squared_error(Y_test,test_predictions)**0.5\n",
    "print('Train RMSE : ',train_RMSE)\n",
    "print('Test RMSE : ',test_RMSE)"
   ]
  },
  {
   "cell_type": "code",
   "execution_count": null,
   "id": "37fb55ff",
   "metadata": {},
   "outputs": [],
   "source": []
  },
  {
   "cell_type": "code",
   "execution_count": null,
   "id": "cbbf6403",
   "metadata": {},
   "outputs": [],
   "source": []
  },
  {
   "cell_type": "code",
   "execution_count": null,
   "id": "6860cf12",
   "metadata": {},
   "outputs": [],
   "source": []
  }
 ],
 "metadata": {
  "kernelspec": {
   "display_name": "Python 3 (ipykernel)",
   "language": "python",
   "name": "python3"
  },
  "language_info": {
   "codemirror_mode": {
    "name": "ipython",
    "version": 3
   },
   "file_extension": ".py",
   "mimetype": "text/x-python",
   "name": "python",
   "nbconvert_exporter": "python",
   "pygments_lexer": "ipython3",
   "version": "3.9.13"
  }
 },
 "nbformat": 4,
 "nbformat_minor": 5
}
