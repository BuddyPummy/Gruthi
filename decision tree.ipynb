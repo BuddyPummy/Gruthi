{
 "cells": [
  {
   "cell_type": "code",
   "execution_count": 3,
   "id": "975ca040",
   "metadata": {},
   "outputs": [],
   "source": [
    "import numpy as np\n",
    "import pandas as pd\n",
    "import matplotlib.pyplot as plt\n",
    "%matplotlib inline\n",
    "credit_data = pd.read_csv(\"D:/aiml/credit_risk_data.csv\")\n"
   ]
  },
  {
   "cell_type": "code",
   "execution_count": 4,
   "id": "fe9e8e8e",
   "metadata": {},
   "outputs": [
    {
     "name": "stdout",
     "output_type": "stream",
     "text": [
      "<class 'pandas.core.frame.DataFrame'>\n",
      "RangeIndex: 1000 entries, 0 to 999\n",
      "Data columns (total 21 columns):\n",
      " #   Column                  Non-Null Count  Dtype \n",
      "---  ------                  --------------  ----- \n",
      " 0   over_draft              1000 non-null   object\n",
      " 1   credit_usage            1000 non-null   int64 \n",
      " 2   credit_history          1000 non-null   object\n",
      " 3   purpose                 1000 non-null   object\n",
      " 4   current_balance         1000 non-null   int64 \n",
      " 5   Average_Credit_Balance  1000 non-null   object\n",
      " 6   employment              1000 non-null   object\n",
      " 7   location                1000 non-null   int64 \n",
      " 8   personal_status         1000 non-null   object\n",
      " 9   other_parties           1000 non-null   object\n",
      " 10  residence_since         1000 non-null   int64 \n",
      " 11  property_magnitude      1000 non-null   object\n",
      " 12  cc_age                  1000 non-null   int64 \n",
      " 13  other_payment_plans     1000 non-null   object\n",
      " 14  housing                 1000 non-null   object\n",
      " 15  existing_credits        1000 non-null   int64 \n",
      " 16  job                     1000 non-null   object\n",
      " 17  num_dependents          1000 non-null   int64 \n",
      " 18  own_telephone           1000 non-null   object\n",
      " 19  foreign_worker          1000 non-null   object\n",
      " 20  class                   1000 non-null   object\n",
      "dtypes: int64(7), object(14)\n",
      "memory usage: 164.2+ KB\n"
     ]
    }
   ],
   "source": [
    "credit_data.info()"
   ]
  },
  {
   "cell_type": "code",
   "execution_count": 7,
   "id": "86071433",
   "metadata": {},
   "outputs": [],
   "source": [
    "X = credit_data.columns.drop(\"class\")\n",
    "y = credit_data['class']\n"
   ]
  },
  {
   "cell_type": "code",
   "execution_count": 6,
   "id": "a06660fc",
   "metadata": {},
   "outputs": [
    {
     "name": "stdout",
     "output_type": "stream",
     "text": [
      "Total number of predictors after encoding =  61\n"
     ]
    },
    {
     "data": {
      "text/plain": [
       "Index(['credit_usage', 'current_balance', 'location', 'residence_since',\n",
       "       'cc_age', 'existing_credits', 'num_dependents', 'over_draft_0<=X<200',\n",
       "       'over_draft_<0', 'over_draft_>=200', 'over_draft_no checking',\n",
       "       'credit_history_all paid',\n",
       "       'credit_history_critical/other existing credit',\n",
       "       'credit_history_delayed previously', 'credit_history_existing paid',\n",
       "       'credit_history_no credits/all paid', 'purpose_business',\n",
       "       'purpose_domestic appliance', 'purpose_education',\n",
       "       'purpose_furniture/equipment', 'purpose_new car', 'purpose_other',\n",
       "       'purpose_radio/tv', 'purpose_repairs', 'purpose_retraining',\n",
       "       'purpose_used car', 'Average_Credit_Balance_100<=X<500',\n",
       "       'Average_Credit_Balance_500<=X<1000', 'Average_Credit_Balance_<100',\n",
       "       'Average_Credit_Balance_>=1000',\n",
       "       'Average_Credit_Balance_no known savings', 'employment_1<=X<4',\n",
       "       'employment_4<=X<7', 'employment_<1', 'employment_>=7',\n",
       "       'employment_unemployed', 'personal_status_female div/dep/mar',\n",
       "       'personal_status_male div/sep', 'personal_status_male mar/wid',\n",
       "       'personal_status_male single', 'other_parties_co applicant',\n",
       "       'other_parties_guarantor', 'other_parties_none',\n",
       "       'property_magnitude_car', 'property_magnitude_life insurance',\n",
       "       'property_magnitude_no known property',\n",
       "       'property_magnitude_real estate', 'other_payment_plans_bank',\n",
       "       'other_payment_plans_none', 'other_payment_plans_stores',\n",
       "       'housing_for free', 'housing_own', 'housing_rent',\n",
       "       'job_high qualif/self emp/mgmt', 'job_skilled',\n",
       "       'job_unemp/unskilled non res', 'job_unskilled resident',\n",
       "       'own_telephone_none', 'own_telephone_yes', 'foreign_worker_no',\n",
       "       'foreign_worker_yes'],\n",
       "      dtype='object')"
      ]
     },
     "execution_count": 6,
     "metadata": {},
     "output_type": "execute_result"
    }
   ],
   "source": [
    "credit_data_encoded = pd.get_dummies(credit_data[X])\n",
    "print(\"Total number of predictors after encoding = \", len(credit_data_encoded.columns))\n",
    "credit_data_encoded.columns\n"
   ]
  },
  {
   "cell_type": "code",
   "execution_count": 8,
   "id": "c0261a16",
   "metadata": {},
   "outputs": [
    {
     "name": "stdout",
     "output_type": "stream",
     "text": [
      "Shape of X_train and y_train are: (850, 61) and (850,)  respectively\n",
      "Shape of X_test and y_test are: (150, 61) and (150,)  respectively\n"
     ]
    }
   ],
   "source": [
    "from sklearn.model_selection import train_test_split\n",
    "X_train,X_test,y_train,y_test = train_test_split(credit_data_encoded, y,test_size=0.15,random_state=100) \n",
    "print(\"Shape of X_train and y_train are:\", X_train.shape, \"and\", y_train.shape, \" respectively\")\n",
    "print(\"Shape of X_test and y_test are:\", X_test.shape, \"and\", y_test.shape, \" respectively\")\n"
   ]
  },
  {
   "cell_type": "code",
   "execution_count": 15,
   "id": "43c947af",
   "metadata": {},
   "outputs": [
    {
     "data": {
      "text/plain": [
       "DecisionTreeClassifier(random_state=1)"
      ]
     },
     "execution_count": 15,
     "metadata": {},
     "output_type": "execute_result"
    }
   ],
   "source": [
    "from sklearn.tree import DecisionTreeClassifier\n",
    "model = DecisionTreeClassifier(random_state = 1)\n",
    "model.fit(X_train,y_train)\n",
    "\n"
   ]
  },
  {
   "cell_type": "code",
   "execution_count": 16,
   "id": "ff216ef1",
   "metadata": {},
   "outputs": [],
   "source": [
    "train_predictions = model.predict(X_train)\n",
    "test_predictions = model.predict(X_test)\n"
   ]
  },
  {
   "cell_type": "code",
   "execution_count": 17,
   "id": "dc7a2cf2",
   "metadata": {},
   "outputs": [
    {
     "ename": "ModuleNotFoundError",
     "evalue": "No module named 'graphviz'",
     "output_type": "error",
     "traceback": [
      "\u001b[1;31m---------------------------------------------------------------------------\u001b[0m",
      "\u001b[1;31mModuleNotFoundError\u001b[0m                       Traceback (most recent call last)",
      "Input \u001b[1;32mIn [17]\u001b[0m, in \u001b[0;36m<cell line: 2>\u001b[1;34m()\u001b[0m\n\u001b[0;32m      1\u001b[0m \u001b[38;5;28;01mfrom\u001b[39;00m \u001b[38;5;21;01msklearn\u001b[39;00m\u001b[38;5;21;01m.\u001b[39;00m\u001b[38;5;21;01mtree\u001b[39;00m \u001b[38;5;28;01mimport\u001b[39;00m export_graphviz\n\u001b[1;32m----> 2\u001b[0m \u001b[38;5;28;01mimport\u001b[39;00m \u001b[38;5;21;01mgraphviz\u001b[39;00m\n\u001b[0;32m      3\u001b[0m dot_data \u001b[38;5;241m=\u001b[39m export_graphviz(model, out_file\u001b[38;5;241m=\u001b[39m\u001b[38;5;28;01mNone\u001b[39;00m,\n\u001b[0;32m      4\u001b[0m                           feature_names\u001b[38;5;241m=\u001b[39mcredit_data_encoded\u001b[38;5;241m.\u001b[39mcolumns,  \n\u001b[0;32m      5\u001b[0m                           class_names\u001b[38;5;241m=\u001b[39mmodel\u001b[38;5;241m.\u001b[39mclasses_,  \n\u001b[0;32m      6\u001b[0m                           ) \n\u001b[0;32m      7\u001b[0m graph \u001b[38;5;241m=\u001b[39m graphviz\u001b[38;5;241m.\u001b[39mSource(dot_data) \n",
      "\u001b[1;31mModuleNotFoundError\u001b[0m: No module named 'graphviz'"
     ]
    }
   ],
   "source": [
    "from sklearn.tree import export_graphviz\n",
    "import graphviz\n",
    "dot_data = export_graphviz(model, out_file=None,\n",
    "                          feature_names=credit_data_encoded.columns,  \n",
    "                          class_names=model.classes_,  \n",
    "                          ) \n",
    "graph = graphviz.Source(dot_data) \n",
    "graph\n"
   ]
  },
  {
   "cell_type": "code",
   "execution_count": 18,
   "id": "254837e8",
   "metadata": {},
   "outputs": [
    {
     "name": "stdout",
     "output_type": "stream",
     "text": [
      "Accuracy of the model on train data =  1.0\n",
      "Accuracy of the model on test data =  0.6533333333333333\n"
     ]
    }
   ],
   "source": [
    "train_accuracy = model.score(X_train,y_train)\n",
    "print(\"Accuracy of the model on train data = \",train_accuracy)\n",
    "test_accuracy = model.score(X_test,y_test)\n",
    "print(\"Accuracy of the model on test data = \",test_accuracy)\n"
   ]
  },
  {
   "cell_type": "code",
   "execution_count": 19,
   "id": "2583815f",
   "metadata": {},
   "outputs": [
    {
     "name": "stdout",
     "output_type": "stream",
     "text": [
      "train_accuracy =  0.7635294117647059\n",
      "test_accuracy =  0.7266666666666667\n"
     ]
    }
   ],
   "source": [
    "model1 = DecisionTreeClassifier(min_samples_split=10,min_impurity_decrease=0.005)\n",
    "model1.fit(X_train,y_train)\n",
    "print(\"train_accuracy = \", model1.score(X_train,y_train))\n",
    "print(\"test_accuracy = \", model1.score(X_test,y_test))\n"
   ]
  },
  {
   "cell_type": "code",
   "execution_count": 20,
   "id": "aa84a6ed",
   "metadata": {},
   "outputs": [
    {
     "name": "stdout",
     "output_type": "stream",
     "text": [
      "Model2 train accuracy =  0.6976470588235294\n",
      "Model2 test accuracy =  0.7133333333333334\n"
     ]
    }
   ],
   "source": [
    "model2 = DecisionTreeClassifier(min_samples_split=20,min_impurity_decrease=0.1)\n",
    "model2.fit(X_train,y_train)\n",
    "print(\"Model2 train accuracy = \", model2.score(X_train,y_train))\n",
    "print(\"Model2 test accuracy = \", model2.score(X_test,y_test))\n"
   ]
  },
  {
   "cell_type": "code",
   "execution_count": null,
   "id": "50a75d49",
   "metadata": {},
   "outputs": [],
   "source": []
  }
 ],
 "metadata": {
  "kernelspec": {
   "display_name": "Python 3 (ipykernel)",
   "language": "python",
   "name": "python3"
  },
  "language_info": {
   "codemirror_mode": {
    "name": "ipython",
    "version": 3
   },
   "file_extension": ".py",
   "mimetype": "text/x-python",
   "name": "python",
   "nbconvert_exporter": "python",
   "pygments_lexer": "ipython3",
   "version": "3.9.12"
  }
 },
 "nbformat": 4,
 "nbformat_minor": 5
}
