{
 "cells": [
  {
   "cell_type": "code",
   "execution_count": null,
   "id": "b954b6f9",
   "metadata": {},
   "outputs": [],
   "source": [
    "import numpy as np\n",
    "from sklearn.utils import shuffle\n",
    "from sklearn.model_selection import train_test_split\n",
    "from sklearn.metrics import classification_report\n",
    "from PIL import Image, ImageEnhance\n",
    "\n",
    "# For ML Models\n",
    "from tensorflow import keras\n",
    "from tensorflow.keras.layers import *\n",
    "from tensorflow.keras.losses import *\n",
    "from tensorflow.keras.models import *\n",
    "from tensorflow.keras.metrics import *\n",
    "from tensorflow.keras.optimizers import *\n",
    "from tensorflow.keras.applications import *\n",
    "from tensorflow.keras.preprocessing.image import load_img\n",
    "import matplotlib.pyplot as plt\n",
    "import seaborn as sns\n",
    "\n",
    "# Miscellaneous\n",
    "from tqdm import tqdm\n",
    "import os\n",
    "import random"
   ]
  },
  {
   "cell_type": "code",
   "execution_count": null,
   "id": "ec4bec38",
   "metadata": {},
   "outputs": [],
   "source": [
    "train_dir ='C:/Users/wpt/Desktop/gruthi ml/Training'\n",
    "test_dir = 'C:/Users/wpt/Desktop/gruthi ml/Testing'\n",
    "\n",
    "train_paths = []\n",
    "train_labels = []\n",
    "\n",
    "for label in os.listdir(train_dir):\n",
    "    for image in os.listdir(train_dir+\"//\" +label):\n",
    "        train_paths.append(train_dir + '//'+label+ '//'+image)\n",
    "        train_labels.append(label)\n",
    "\n",
    "train_paths, train_labels = shuffle(train_paths, train_labels)"
   ]
  },
  {
   "cell_type": "code",
   "execution_count": null,
   "id": "5037bb89",
   "metadata": {},
   "outputs": [],
   "source": [
    "plt.figure(figsize=(10,10))\n",
    "colors = ['#ff9999','#66b3ff','#99ff99','#ffcc99']\n",
    "plt.pie([len(os.listdir(train_dir+\"//\" +label)) \n",
    "        for label in os.listdir(train_dir)],\n",
    "         labels=os.listdir(train_dir),\n",
    "          colors = colors,\n",
    "           explode = (0.08,0.08,0.08,0.08) \n",
    "           ,autopct='%1.1f%%')\n",
    "plt.show()\n"
   ]
  },
  {
   "cell_type": "code",
   "execution_count": null,
   "id": "a0990d67",
   "metadata": {},
   "outputs": [],
   "source": [
    "plt.figure(figsize=(14,6))\n",
    "sns.countplot(train_labels, palette=colors)\n",
    "plt.title('Distribution of the types of brain tumors')\n",
    "plt.xlabel('Type of brain tumor')\n",
    "plt.ylabel('Number of images');"
   ]
  },
  {
   "cell_type": "code",
   "execution_count": null,
   "id": "85e3176f",
   "metadata": {},
   "outputs": [],
   "source": [
    "test_paths = []\n",
    "test_labels = []\n",
    "\n",
    "for label in os.listdir(test_dir):\n",
    "    for image in os.listdir(test_dir+ '//' + label):\n",
    "        test_paths.append(test_dir +'//'+label + '//'+image)\n",
    "        test_labels.append(label)\n",
    "\n",
    "test_paths, test_labels = shuffle(test_paths, test_labels)"
   ]
  },
  {
   "cell_type": "code",
   "execution_count": null,
   "id": "2dec332e",
   "metadata": {},
   "outputs": [],
   "source": [
    "plt.figure(figsize=(14,6))\n",
    "colors = ['Violet' , 'Blue']\n",
    "plt.rcParams.update({'font.size': 14})\n",
    "plt.pie([len(train_labels), len(test_labels)],\n",
    "        labels=['Train','Test'],\n",
    "        colors=colors, autopct='%.1f%%', explode=(0.05,0),\n",
    "        startangle=30);"
   ]
  },
  {
   "cell_type": "code",
   "execution_count": null,
   "id": "aea25928",
   "metadata": {},
   "outputs": [],
   "source": [
    "def augment_image(image):\n",
    "    image = Image.fromarray(np.uint8(image))\n",
    "    image = ImageEnhance.Brightness(image).enhance(random.uniform(0.8,1.2))\n",
    "    image = ImageEnhance.Contrast(image).enhance(random.uniform(0.8,1.2))\n",
    "    image = ImageEnhance.Sharpness(image).enhance(random.uniform(0.8,1.2))\n",
    "    image = np.array(image)/255.0\n",
    "    return image"
   ]
  },
  {
   "cell_type": "code",
   "execution_count": null,
   "id": "54260278",
   "metadata": {},
   "outputs": [],
   "source": [
    "IMAGE_SIZE = 128\n",
    "\n",
    "\n",
    "def open_images(paths):\n",
    "\n",
    "    images = []\n",
    "    for path in paths:\n",
    "        image = load_img(path, target_size=(IMAGE_SIZE, IMAGE_SIZE))\n",
    "        image = augment_image(image)\n",
    "        images.append(image)\n",
    "    return np.array(images)"
   ]
  },
  {
   "cell_type": "code",
   "execution_count": null,
   "id": "733fa27d",
   "metadata": {},
   "outputs": [],
   "source": [
    "images = open_images(train_paths[50:59])\n",
    "labels = train_labels[50:59]\n",
    "fig = plt.figure(figsize=(12, 6))\n",
    "for x in range(1, 9):\n",
    "    fig.add_subplot(2, 4, x)\n",
    "    plt.axis('off')\n",
    "    plt.title(labels[x])\n",
    "    plt.imshow(images[x])\n",
    "plt.rcParams.update({'font.size': 12})\n",
    "plt.show()"
   ]
  },
  {
   "cell_type": "code",
   "execution_count": null,
   "id": "843eb2b4",
   "metadata": {},
   "outputs": [],
   "source": [
    "unique_labels = os.listdir(train_dir)\n",
    "\n",
    "def encode_label(labels):\n",
    "    encoded = []\n",
    "    for x in labels:\n",
    "        encoded.append(unique_labels.index(x))\n",
    "    return np.array(encoded)\n",
    "\n",
    "def decode_label(labels):\n",
    "    decoded = []\n",
    "    for x in labels:\n",
    "        decoded.append(unique_labels[x])\n",
    "    return np.array(decoded)\n",
    "\n",
    "def datagen(paths, labels, batch_size=12, epochs=1):\n",
    "    for _ in range(epochs):\n",
    "        for x in range(0, len(paths), batch_size):\n",
    "            batch_paths = paths[x:x+batch_size]\n",
    "            batch_images = open_images(batch_paths)\n",
    "            batch_labels = labels[x:x+batch_size]\n",
    "            batch_labels = encode_label(batch_labels)\n",
    "            yield batch_images, batch_labels"
   ]
  },
  {
   "cell_type": "code",
   "execution_count": null,
   "id": "c80dbdf7",
   "metadata": {},
   "outputs": [],
   "source": [
    "def build_model():\n",
    "    model = Sequential()\n",
    "    model.add(Conv2D(32, (3, 3), activation='relu', input_shape=(IMAGE_SIZE, IMAGE_SIZE, 3)))\n",
    "    model.add(MaxPooling2D((2, 2)))\n",
    "    model.add(Conv2D(64, (3, 3), activation='relu'))\n",
    "    model.add(MaxPooling2D((2, 2)))\n",
    "    model.add(Conv2D(32, (3, 3), activation='relu'))\n",
    "    model.add(Flatten())\n",
    "    model.add(Dense(16, activation='relu'))\n",
    "    model.add(Dense(4, activation='softmax'))\n",
    "    model.compile(optimizer='adam', loss='sparse_categorical_crossentropy', metrics=['accuracy'])\n",
    "    return model\n",
    "\n",
    "model = build_model()\n",
    "model.summary()"
   ]
  },
  {
   "cell_type": "code",
   "execution_count": null,
   "id": "9eaebbaf",
   "metadata": {},
   "outputs": [],
   "source": [
    "model.fit(datagen(train_paths, train_labels, batch_size=32, epochs=10), steps_per_epoch=len(train_paths)//32, epochs=10)"
   ]
  },
  {
   "cell_type": "code",
   "execution_count": null,
   "id": "73c934b4",
   "metadata": {},
   "outputs": [],
   "source": [
    "train_loss, train_acc = model.evaluate(open_images(train_paths), encode_label(train_labels))\n",
    "test_loss, test_acc = model.evaluate(open_images(test_paths), encode_label(test_labels))\n",
    "print('Train accuracy:', train_acc)\n",
    "print('Test accuracy:', test_acc)"
   ]
  },
  {
   "cell_type": "code",
   "execution_count": null,
   "id": "33ff89d6",
   "metadata": {},
   "outputs": [],
   "source": [
    "predictions = model.predict(open_images(test_paths))\n",
    "predictions = np.argmax(predictions, axis=1)\n",
    "print(classification_report(encode_label(test_labels), predictions, target_names=unique_labels))"
   ]
  },
  {
   "cell_type": "code",
   "execution_count": null,
   "id": "bbe9b3b8",
   "metadata": {},
   "outputs": [],
   "source": []
  },
  {
   "cell_type": "code",
   "execution_count": null,
   "id": "12b0e39c",
   "metadata": {},
   "outputs": [],
   "source": []
  },
  {
   "cell_type": "code",
   "execution_count": null,
   "id": "97cf73d5",
   "metadata": {},
   "outputs": [],
   "source": []
  }
 ],
 "metadata": {
  "kernelspec": {
   "display_name": "Python 3 (ipykernel)",
   "language": "python",
   "name": "python3"
  },
  "language_info": {
   "codemirror_mode": {
    "name": "ipython",
    "version": 3
   },
   "file_extension": ".py",
   "mimetype": "text/x-python",
   "name": "python",
   "nbconvert_exporter": "python",
   "pygments_lexer": "ipython3",
   "version": "3.9.13"
  }
 },
 "nbformat": 4,
 "nbformat_minor": 5
}
