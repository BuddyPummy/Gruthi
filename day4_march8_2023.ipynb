{
  "cells": [
    {
      "cell_type": "markdown",
      "metadata": {
        "id": "view-in-github",
        "colab_type": "text"
      },
      "source": [
        "<a href=\"https://colab.research.google.com/github/BuddyPummy/Gruthi/blob/main/day4_march8_2023.ipynb\" target=\"_parent\"><img src=\"https://colab.research.google.com/assets/colab-badge.svg\" alt=\"Open In Colab\"/></a>"
      ]
    },
    {
      "cell_type": "code",
      "execution_count": null,
      "id": "59d1941f",
      "metadata": {
        "id": "59d1941f",
        "outputId": "1e601af7-8372-48ff-c396-bf7e1638f6c7"
      },
      "outputs": [
        {
          "name": "stdout",
          "output_type": "stream",
          "text": [
            "sara has 3 children where the elder one is 18 year old, middle one is 12 year old and and smallest one is 1 year old\n"
          ]
        }
      ],
      "source": [
        "a=18\n",
        "b=12\n",
        "c=1\n",
        "d=\"sara has 3 children where the elder one is {} year old, middle one is {} year old and and smallest one is {} year old\"\n",
        "print(d.format(a,b,c))"
      ]
    },
    {
      "cell_type": "code",
      "execution_count": null,
      "id": "96f05178",
      "metadata": {
        "id": "96f05178",
        "outputId": "096a0306-bc91-4c81-8bb0-f4c228b15230"
      },
      "outputs": [
        {
          "data": {
            "text/plain": [
              "['a', 111, True]"
            ]
          },
          "execution_count": 5,
          "metadata": {},
          "output_type": "execute_result"
        }
      ],
      "source": [
        "a=['a',111,True]\n",
        "a"
      ]
    },
    {
      "cell_type": "code",
      "execution_count": null,
      "id": "9bc74f52",
      "metadata": {
        "id": "9bc74f52",
        "outputId": "e635833a-ed2f-443f-ef7b-2ee813b12956"
      },
      "outputs": [
        {
          "name": "stdout",
          "output_type": "stream",
          "text": [
            "<class 'list'>\n"
          ]
        }
      ],
      "source": [
        "print(type(a))"
      ]
    },
    {
      "cell_type": "code",
      "execution_count": null,
      "id": "1c975126",
      "metadata": {
        "id": "1c975126",
        "outputId": "21311525-cb0a-46f2-f63a-5f3b5a2ca391"
      },
      "outputs": [
        {
          "name": "stdout",
          "output_type": "stream",
          "text": [
            "['apple', 'banana', 'cherry', 'app', 'aokslls']\n"
          ]
        }
      ],
      "source": [
        "#list constructor\n",
        "thelist = list((\"apple\",\"banana\",\"cherry\",\"app\",\"aokslls\"))\n",
        "print(thelist)"
      ]
    },
    {
      "cell_type": "code",
      "execution_count": null,
      "id": "8da1cfbe",
      "metadata": {
        "id": "8da1cfbe",
        "outputId": "815f3b15-97e7-49cc-96c9-b82d77dcf251"
      },
      "outputs": [
        {
          "name": "stdout",
          "output_type": "stream",
          "text": [
            "present\n"
          ]
        }
      ],
      "source": [
        "if \"apple\" in thelist:\n",
        "    print(\"present\")"
      ]
    },
    {
      "cell_type": "code",
      "execution_count": null,
      "id": "a3c29169",
      "metadata": {
        "id": "a3c29169",
        "outputId": "720a72cd-4fd7-4b7b-8491-8b8d24114840"
      },
      "outputs": [
        {
          "name": "stdout",
          "output_type": "stream",
          "text": [
            "3\n"
          ]
        }
      ],
      "source": [
        "print(len(thelist))"
      ]
    },
    {
      "cell_type": "code",
      "execution_count": null,
      "id": "640c00b8",
      "metadata": {
        "id": "640c00b8",
        "outputId": "0af3bdf1-8c5d-42e3-cfc4-43406bdb5f10"
      },
      "outputs": [
        {
          "name": "stdout",
          "output_type": "stream",
          "text": [
            "cherry\n"
          ]
        }
      ],
      "source": [
        "print(thelist[2])"
      ]
    },
    {
      "cell_type": "code",
      "execution_count": null,
      "id": "b8fef4c0",
      "metadata": {
        "id": "b8fef4c0",
        "outputId": "d4419300-1634-44ce-9582-936dc513ad58"
      },
      "outputs": [
        {
          "name": "stdout",
          "output_type": "stream",
          "text": [
            "['banana', 'cherry']\n"
          ]
        }
      ],
      "source": [
        "thelist = list((\"apple\",\"banana\",\"cherry\",\"app\",\"aokslls\"))\n",
        "print(thelist[-4:-2])"
      ]
    },
    {
      "cell_type": "code",
      "execution_count": null,
      "id": "8c541f63",
      "metadata": {
        "id": "8c541f63",
        "outputId": "13d07dac-2f3b-4ec6-cad2-ff738cc41a0f"
      },
      "outputs": [
        {
          "name": "stdout",
          "output_type": "stream",
          "text": [
            "[1, 4, 7, 10]\n"
          ]
        }
      ],
      "source": [
        "a=[1,2,3,4,5,6,7,8,9,10]\n",
        "a=a[::3]\n",
        "print(a)"
      ]
    },
    {
      "cell_type": "code",
      "execution_count": null,
      "id": "3656f70e",
      "metadata": {
        "id": "3656f70e",
        "outputId": "45b85078-7765-4c74-91e6-b23484f135df"
      },
      "outputs": [
        {
          "data": {
            "text/plain": [
              "18"
            ]
          },
          "execution_count": 45,
          "metadata": {},
          "output_type": "execute_result"
        }
      ],
      "source": [
        "a=[1,2,3,4,5,6,7,8,9,10]\n",
        "a=a[2],a[5],a[8]\n",
        "sum(a)"
      ]
    },
    {
      "cell_type": "code",
      "execution_count": null,
      "id": "4695a63b",
      "metadata": {
        "id": "4695a63b",
        "outputId": "0c060f01-959d-405b-fd90-56216145805b"
      },
      "outputs": [
        {
          "name": "stdout",
          "output_type": "stream",
          "text": [
            "18\n"
          ]
        }
      ],
      "source": [
        "a=[1,2,3,4,5,6,7,8,9,10]\n",
        "a=a[2::3]\n",
        "print(sum(a))"
      ]
    },
    {
      "cell_type": "code",
      "execution_count": null,
      "id": "5ddd7ce4",
      "metadata": {
        "id": "5ddd7ce4",
        "outputId": "91e009b2-3c70-4d6b-ffdb-0fa27c21a3d9"
      },
      "outputs": [
        {
          "name": "stdout",
          "output_type": "stream",
          "text": [
            "['haha', 'a', 'b', 'c']\n"
          ]
        }
      ],
      "source": [
        "l=['a','b','c']\n",
        "l.insert(0,\"haha\")\n",
        "print(l)"
      ]
    },
    {
      "cell_type": "code",
      "execution_count": null,
      "id": "dcef5dab",
      "metadata": {
        "id": "dcef5dab",
        "outputId": "de8a85d5-3cae-4b6a-dfe8-2ec463f343a2"
      },
      "outputs": [
        {
          "name": "stdout",
          "output_type": "stream",
          "text": [
            "c\n",
            "papaya\n",
            "['a', 'b', 'papaya']\n"
          ]
        }
      ],
      "source": [
        "l=['a','b','c']\n",
        "print(l[2])\n",
        "l[2]=\"papaya\"\n",
        "print(l[2])\n",
        "print(l)"
      ]
    },
    {
      "cell_type": "code",
      "execution_count": null,
      "id": "d94fd354",
      "metadata": {
        "id": "d94fd354",
        "outputId": "3975c020-8a56-4f22-b468-b91fafdffb20"
      },
      "outputs": [
        {
          "name": "stdout",
          "output_type": "stream",
          "text": [
            "['one', 'two', 'three', 'four']\n"
          ]
        }
      ],
      "source": [
        "list=[\"one\",\"two\",\"three\",\"four\"]\n",
        "print(list)"
      ]
    },
    {
      "cell_type": "code",
      "execution_count": null,
      "id": "fbdfdc6a",
      "metadata": {
        "id": "fbdfdc6a",
        "outputId": "5e05d0c2-f76c-48a1-8f46-6bf2bdb6d137"
      },
      "outputs": [
        {
          "name": "stdout",
          "output_type": "stream",
          "text": [
            "['one', 'change', 'three', 'four']\n"
          ]
        }
      ],
      "source": [
        "list[1]=\"change\"\n",
        "print(list)"
      ]
    },
    {
      "cell_type": "code",
      "execution_count": null,
      "id": "230fd4c1",
      "metadata": {
        "id": "230fd4c1",
        "outputId": "5ba05f81-f449-4349-9d39-6156c31d4c2a"
      },
      "outputs": [
        {
          "name": "stdout",
          "output_type": "stream",
          "text": [
            "['haha', 'one', 'two', 'three', 'four', 'appended']\n"
          ]
        }
      ],
      "source": [
        "list=[\"one\",\"two\",\"three\",\"four\"]\n",
        "list.insert(0,\"haha\")\n",
        "list.append(\"appended\")\n",
        "print(list)"
      ]
    },
    {
      "cell_type": "code",
      "execution_count": null,
      "id": "2c26d1a4",
      "metadata": {
        "id": "2c26d1a4",
        "outputId": "138173a0-cc83-4925-c542-5154804346fa"
      },
      "outputs": [
        {
          "data": {
            "text/plain": [
              "['a', 'b', 'c', 'one', 'two', 'three', 'four']"
            ]
          },
          "execution_count": 69,
          "metadata": {},
          "output_type": "execute_result"
        }
      ],
      "source": [
        "list=[\"one\",\"two\",\"three\",\"four\"]\n",
        "l=['a','b','c']\n",
        "l.extend(list)\n",
        "l"
      ]
    },
    {
      "cell_type": "markdown",
      "id": "b15290b7",
      "metadata": {
        "id": "b15290b7"
      },
      "source": [
        "# add any iterable"
      ]
    },
    {
      "cell_type": "code",
      "execution_count": null,
      "id": "032fd058",
      "metadata": {
        "id": "032fd058",
        "outputId": "7516f59d-008b-42da-aaa6-01865b8c955a"
      },
      "outputs": [
        {
          "data": {
            "text/plain": [
              "['one', 'two', 'three', 'kiwi', 'apple', 'cherry']"
            ]
          },
          "execution_count": 71,
          "metadata": {},
          "output_type": "execute_result"
        }
      ],
      "source": [
        "tuple=(\"kiwi\",\"apple\",\"cherry\")\n",
        "list=[\"one\",\"two\",\"three\"]\n",
        "list.extend(tuple)\n",
        "list"
      ]
    },
    {
      "cell_type": "code",
      "execution_count": null,
      "id": "354ab79f",
      "metadata": {
        "id": "354ab79f",
        "outputId": "54c5aadd-3a7c-478a-f832-059ec4adfd59"
      },
      "outputs": [
        {
          "data": {
            "text/plain": [
              "['one', 'two', 'four', 'five', 'six']"
            ]
          },
          "execution_count": 85,
          "metadata": {},
          "output_type": "execute_result"
        }
      ],
      "source": [
        "list=[\"one\",\"two\",\"three\",\"four\",\"five\",\"six\"]\n",
        "list.remove(\"three\")\n",
        "list"
      ]
    },
    {
      "cell_type": "code",
      "execution_count": null,
      "id": "342d6058",
      "metadata": {
        "id": "342d6058",
        "outputId": "f5c5db08-59b1-49ee-bbf4-aa3037d48d4b"
      },
      "outputs": [
        {
          "data": {
            "text/plain": [
              "['one', 'four', 'five', 'six']"
            ]
          },
          "execution_count": 86,
          "metadata": {},
          "output_type": "execute_result"
        }
      ],
      "source": [
        "list.pop(1)\n",
        "list"
      ]
    },
    {
      "cell_type": "code",
      "execution_count": null,
      "id": "a884a3d3",
      "metadata": {
        "id": "a884a3d3",
        "outputId": "738c1005-ca7c-4d9f-c52e-628bbb5abc95"
      },
      "outputs": [
        {
          "data": {
            "text/plain": [
              "['one', 'five', 'six']"
            ]
          },
          "execution_count": 87,
          "metadata": {},
          "output_type": "execute_result"
        }
      ],
      "source": [
        "del list[1]\n",
        "list"
      ]
    },
    {
      "cell_type": "code",
      "execution_count": null,
      "id": "44ba0339",
      "metadata": {
        "id": "44ba0339",
        "outputId": "7dd3a1eb-3265-48b6-d54e-65a5b526f1af"
      },
      "outputs": [
        {
          "data": {
            "text/plain": [
              "[]"
            ]
          },
          "execution_count": 89,
          "metadata": {},
          "output_type": "execute_result"
        }
      ],
      "source": [
        "list.clear()\n",
        "list"
      ]
    },
    {
      "cell_type": "code",
      "execution_count": null,
      "id": "56c74e0a",
      "metadata": {
        "id": "56c74e0a",
        "outputId": "3680cd0d-5991-4784-ab07-034aa458c214"
      },
      "outputs": [
        {
          "name": "stdout",
          "output_type": "stream",
          "text": [
            "hinata\n",
            "naruto\n",
            "itachi\n"
          ]
        }
      ],
      "source": [
        "list=[\"hinata\",\"naruto\",\"itachi\"]\n",
        "for x in list:\n",
        "    print(x)"
      ]
    },
    {
      "cell_type": "code",
      "execution_count": null,
      "id": "95f3da63",
      "metadata": {
        "id": "95f3da63",
        "outputId": "2f811e1f-4595-4c4d-a26e-5232b8e3690a"
      },
      "outputs": [
        {
          "name": "stdout",
          "output_type": "stream",
          "text": [
            "hinata\n",
            "naruto\n",
            "itachi\n"
          ]
        }
      ],
      "source": [
        "list=[\"hinata\",\"naruto\",\"itachi\"]\n",
        "i=0\n",
        "while i<len(list):\n",
        "    print(list[i])\n",
        "    i=i+1"
      ]
    },
    {
      "cell_type": "code",
      "execution_count": null,
      "id": "f59c61f6",
      "metadata": {
        "id": "f59c61f6"
      },
      "outputs": [],
      "source": []
    },
    {
      "cell_type": "code",
      "execution_count": null,
      "id": "ab747ba3",
      "metadata": {
        "id": "ab747ba3"
      },
      "outputs": [],
      "source": []
    },
    {
      "cell_type": "code",
      "execution_count": null,
      "id": "0ef2584f",
      "metadata": {
        "id": "0ef2584f"
      },
      "outputs": [],
      "source": []
    },
    {
      "cell_type": "code",
      "execution_count": null,
      "id": "32f1c611",
      "metadata": {
        "id": "32f1c611"
      },
      "outputs": [],
      "source": []
    },
    {
      "cell_type": "code",
      "execution_count": null,
      "id": "ec029070",
      "metadata": {
        "id": "ec029070"
      },
      "outputs": [],
      "source": []
    },
    {
      "cell_type": "code",
      "execution_count": null,
      "id": "e2e2de8e",
      "metadata": {
        "id": "e2e2de8e"
      },
      "outputs": [],
      "source": []
    },
    {
      "cell_type": "code",
      "execution_count": null,
      "id": "eccb2baf",
      "metadata": {
        "id": "eccb2baf"
      },
      "outputs": [],
      "source": []
    },
    {
      "cell_type": "code",
      "execution_count": null,
      "id": "4231fe4a",
      "metadata": {
        "id": "4231fe4a"
      },
      "outputs": [],
      "source": []
    },
    {
      "cell_type": "code",
      "execution_count": null,
      "id": "511ab1e6",
      "metadata": {
        "id": "511ab1e6"
      },
      "outputs": [],
      "source": []
    }
  ],
  "metadata": {
    "kernelspec": {
      "display_name": "Python 3 (ipykernel)",
      "language": "python",
      "name": "python3"
    },
    "language_info": {
      "codemirror_mode": {
        "name": "ipython",
        "version": 3
      },
      "file_extension": ".py",
      "mimetype": "text/x-python",
      "name": "python",
      "nbconvert_exporter": "python",
      "pygments_lexer": "ipython3",
      "version": "3.9.13"
    },
    "colab": {
      "provenance": [],
      "include_colab_link": true
    }
  },
  "nbformat": 4,
  "nbformat_minor": 5
}