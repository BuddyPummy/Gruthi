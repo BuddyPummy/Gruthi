{
  "cells": [
    {
      "cell_type": "markdown",
      "metadata": {
        "id": "view-in-github",
        "colab_type": "text"
      },
      "source": [
        "<a href=\"https://colab.research.google.com/github/BuddyPummy/Gruthi/blob/main/day1_march1_2023.ipynb\" target=\"_parent\"><img src=\"https://colab.research.google.com/assets/colab-badge.svg\" alt=\"Open In Colab\"/></a>"
      ]
    },
    {
      "cell_type": "markdown",
      "id": "890f342b",
      "metadata": {
        "id": "890f342b"
      },
      "source": [
        "day1_march1_2023\n"
      ]
    },
    {
      "cell_type": "code",
      "execution_count": null,
      "id": "3ceed325",
      "metadata": {
        "id": "3ceed325"
      },
      "outputs": [],
      "source": [
        "a=\"apple\"\n",
        "b=16162\n",
        "c=True\n",
        "d=1.3"
      ]
    },
    {
      "cell_type": "code",
      "execution_count": null,
      "id": "752c8b77",
      "metadata": {
        "id": "752c8b77"
      },
      "outputs": [],
      "source": [
        "print(type(a))"
      ]
    },
    {
      "cell_type": "code",
      "execution_count": null,
      "id": "56d22f94",
      "metadata": {
        "id": "56d22f94"
      },
      "outputs": [],
      "source": [
        "print(type(b))"
      ]
    },
    {
      "cell_type": "code",
      "execution_count": null,
      "id": "c01e23e7",
      "metadata": {
        "id": "c01e23e7"
      },
      "outputs": [],
      "source": [
        "x=2\n",
        "y=2.4"
      ]
    },
    {
      "cell_type": "code",
      "execution_count": null,
      "id": "276a8f56",
      "metadata": {
        "id": "276a8f56",
        "outputId": "c4d9a1ba-a76d-4cd9-f2cc-a351754fef95"
      },
      "outputs": [
        {
          "name": "stdout",
          "output_type": "stream",
          "text": [
            "2\n"
          ]
        }
      ],
      "source": [
        "b=int(y)\n",
        "print(b)"
      ]
    },
    {
      "cell_type": "code",
      "execution_count": null,
      "id": "0d31c64f",
      "metadata": {
        "id": "0d31c64f",
        "outputId": "4d3bd9cc-0e91-429a-e10b-519278a29963"
      },
      "outputs": [
        {
          "name": "stdout",
          "output_type": "stream",
          "text": [
            "<class 'float'>\n"
          ]
        }
      ],
      "source": [
        "print(type(float(x)))"
      ]
    },
    {
      "cell_type": "code",
      "execution_count": null,
      "id": "196a1cad",
      "metadata": {
        "id": "196a1cad",
        "outputId": "eab1bbc2-3c69-4fbf-cdd9-395d6f577d32"
      },
      "outputs": [
        {
          "name": "stdout",
          "output_type": "stream",
          "text": [
            "2.0\n"
          ]
        }
      ],
      "source": [
        "print((float(x)))"
      ]
    },
    {
      "cell_type": "code",
      "execution_count": null,
      "id": "f419b4be",
      "metadata": {
        "id": "f419b4be"
      },
      "outputs": [],
      "source": [
        "a=2+4\n",
        "s=9-4\n",
        "m=4*9\n",
        "d=9/8\n",
        "fd=889//2\n",
        "po=2**2\n",
        "mod=66%2"
      ]
    },
    {
      "cell_type": "code",
      "execution_count": null,
      "id": "22a7ebde",
      "metadata": {
        "id": "22a7ebde",
        "outputId": "7c536ab9-250f-4306-9b47-79b5122b5adf"
      },
      "outputs": [
        {
          "name": "stdout",
          "output_type": "stream",
          "text": [
            "6\n",
            "5\n",
            "36\n",
            "1.125\n",
            "444\n",
            "4\n",
            "0\n"
          ]
        }
      ],
      "source": [
        "print(a)\n",
        "print(s)\n",
        "print(m)\n",
        "print(d)\n",
        "print(fd)\n",
        "print(po)\n",
        "print(mod)\n"
      ]
    },
    {
      "cell_type": "code",
      "execution_count": null,
      "id": "d561980f",
      "metadata": {
        "id": "d561980f"
      },
      "outputs": [],
      "source": [
        "a=20\n",
        "b=2"
      ]
    },
    {
      "cell_type": "code",
      "execution_count": null,
      "id": "98782bdb",
      "metadata": {
        "id": "98782bdb",
        "outputId": "35a9f653-221a-4d1a-e035-c7c1c8ccc84a"
      },
      "outputs": [
        {
          "name": "stdout",
          "output_type": "stream",
          "text": [
            "22\n",
            "18\n",
            "40\n",
            "10.0\n",
            "10\n",
            "400\n",
            "0\n"
          ]
        }
      ],
      "source": [
        "print(a+b)\n",
        "print(a-b)\n",
        "print(a*b)\n",
        "print(a/b)\n",
        "print(a//b)\n",
        "print(a**b)\n",
        "print(a%b)"
      ]
    }
  ],
  "metadata": {
    "kernelspec": {
      "display_name": "Python 3 (ipykernel)",
      "language": "python",
      "name": "python3"
    },
    "language_info": {
      "codemirror_mode": {
        "name": "ipython",
        "version": 3
      },
      "file_extension": ".py",
      "mimetype": "text/x-python",
      "name": "python",
      "nbconvert_exporter": "python",
      "pygments_lexer": "ipython3",
      "version": "3.9.13"
    },
    "colab": {
      "provenance": [],
      "include_colab_link": true
    }
  },
  "nbformat": 4,
  "nbformat_minor": 5
}